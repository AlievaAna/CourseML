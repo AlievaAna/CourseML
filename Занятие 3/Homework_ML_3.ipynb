{
 "cells": [
  {
   "cell_type": "markdown",
   "metadata": {},
   "source": [
    "## **Неделя 3. Визуализация данных**\n",
    "### Домашняя работа \n",
    "\n",
    "Форма для ответов: https://forms.gle/eD6Qq8915Jj96Exg7   \n",
    "Крайний срок сдачи: 12.03.20"
   ]
  },
  {
   "cell_type": "markdown",
   "metadata": {},
   "source": [
    "Импортируем необходимые библиотеки"
   ]
  },
  {
   "cell_type": "code",
   "execution_count": 1,
   "metadata": {},
   "outputs": [],
   "source": [
    "import pandas as pd\n",
    "import numpy as np\n",
    "\n",
    "import matplotlib.pyplot as plt\n",
    "import seaborn as sns\n",
    "\n",
    "%matplotlib inline\n",
    "\n",
    "import warnings \n",
    "warnings.filterwarnings('ignore')"
   ]
  },
  {
   "cell_type": "markdown",
   "metadata": {},
   "source": [
    "### **Часть 1.** Анализ вероятности посупления в магистратуру."
   ]
  },
  {
   "cell_type": "markdown",
   "metadata": {},
   "source": [
    "Загрузим данные для анализа"
   ]
  },
  {
   "cell_type": "code",
   "execution_count": 2,
   "metadata": {},
   "outputs": [],
   "source": [
    "admission_dataset = pd.read_csv('Admission_Predict_Ver1.1.csv')"
   ]
  },
  {
   "cell_type": "code",
   "execution_count": 3,
   "metadata": {},
   "outputs": [
    {
     "data": {
      "text/html": [
       "<div>\n",
       "<style scoped>\n",
       "    .dataframe tbody tr th:only-of-type {\n",
       "        vertical-align: middle;\n",
       "    }\n",
       "\n",
       "    .dataframe tbody tr th {\n",
       "        vertical-align: top;\n",
       "    }\n",
       "\n",
       "    .dataframe thead th {\n",
       "        text-align: right;\n",
       "    }\n",
       "</style>\n",
       "<table border=\"1\" class=\"dataframe\">\n",
       "  <thead>\n",
       "    <tr style=\"text-align: right;\">\n",
       "      <th></th>\n",
       "      <th>Serial No.</th>\n",
       "      <th>GRE Score</th>\n",
       "      <th>TOEFL Score</th>\n",
       "      <th>University Rating</th>\n",
       "      <th>SOP</th>\n",
       "      <th>LOR</th>\n",
       "      <th>CGPA</th>\n",
       "      <th>Research</th>\n",
       "      <th>Chance of Admit</th>\n",
       "    </tr>\n",
       "  </thead>\n",
       "  <tbody>\n",
       "    <tr>\n",
       "      <th>0</th>\n",
       "      <td>1</td>\n",
       "      <td>337</td>\n",
       "      <td>118</td>\n",
       "      <td>4</td>\n",
       "      <td>4.5</td>\n",
       "      <td>4.5</td>\n",
       "      <td>9.65</td>\n",
       "      <td>1</td>\n",
       "      <td>0.92</td>\n",
       "    </tr>\n",
       "    <tr>\n",
       "      <th>1</th>\n",
       "      <td>2</td>\n",
       "      <td>324</td>\n",
       "      <td>107</td>\n",
       "      <td>4</td>\n",
       "      <td>4.0</td>\n",
       "      <td>4.5</td>\n",
       "      <td>8.87</td>\n",
       "      <td>1</td>\n",
       "      <td>0.76</td>\n",
       "    </tr>\n",
       "    <tr>\n",
       "      <th>2</th>\n",
       "      <td>3</td>\n",
       "      <td>316</td>\n",
       "      <td>104</td>\n",
       "      <td>3</td>\n",
       "      <td>3.0</td>\n",
       "      <td>3.5</td>\n",
       "      <td>8.00</td>\n",
       "      <td>1</td>\n",
       "      <td>0.72</td>\n",
       "    </tr>\n",
       "    <tr>\n",
       "      <th>3</th>\n",
       "      <td>4</td>\n",
       "      <td>322</td>\n",
       "      <td>110</td>\n",
       "      <td>3</td>\n",
       "      <td>3.5</td>\n",
       "      <td>2.5</td>\n",
       "      <td>8.67</td>\n",
       "      <td>1</td>\n",
       "      <td>0.80</td>\n",
       "    </tr>\n",
       "  </tbody>\n",
       "</table>\n",
       "</div>"
      ],
      "text/plain": [
       "   Serial No.  GRE Score  TOEFL Score  University Rating  SOP  LOR   CGPA  \\\n",
       "0           1        337          118                  4  4.5   4.5  9.65   \n",
       "1           2        324          107                  4  4.0   4.5  8.87   \n",
       "2           3        316          104                  3  3.0   3.5  8.00   \n",
       "3           4        322          110                  3  3.5   2.5  8.67   \n",
       "\n",
       "   Research  Chance of Admit   \n",
       "0         1              0.92  \n",
       "1         1              0.76  \n",
       "2         1              0.72  \n",
       "3         1              0.80  "
      ]
     },
     "execution_count": 3,
     "metadata": {},
     "output_type": "execute_result"
    }
   ],
   "source": [
    "admission_dataset.head(4)"
   ]
  },
  {
   "cell_type": "markdown",
   "metadata": {},
   "source": [
    "### Описание данных\n",
    "Датасет содержит информацию о результатах тестов и успеваемости студентов. Целевой переменной(Chance of Admit) является вероятность поступления в магистратуру.\n",
    "\n",
    "Подробности по ссылке ниже.\n",
    "\n",
    "Источник: https://www.kaggle.com/mohansacharya/graduate-admissions/version/2#Admission_Predict_Ver1.1.csv"
   ]
  },
  {
   "cell_type": "markdown",
   "metadata": {},
   "source": [
    "#### **Задание 1.** \n",
    "Какой из признаков является бинарным?"
   ]
  },
  {
   "cell_type": "code",
   "execution_count": 4,
   "metadata": {},
   "outputs": [
    {
     "name": "stdout",
     "output_type": "stream",
     "text": [
      "Research\n"
     ]
    }
   ],
   "source": [
    "for i in admission_dataset.columns:\n",
    "    if admission_dataset[i].nunique() == 2:\n",
    "        print(i)"
   ]
  },
  {
   "cell_type": "markdown",
   "metadata": {},
   "source": [
    "#### **Задание 2.** \n",
    "Как рейтинг университета влияет на шанс поступления? Вычислите абсолютную разницу средних шансов посутпления для студентов из университетов с самым низким и самым высоким рейтингом. "
   ]
  },
  {
   "cell_type": "code",
   "execution_count": 5,
   "metadata": {},
   "outputs": [
    {
     "data": {
      "text/plain": [
       "0.32602336825141"
      ]
     },
     "execution_count": 5,
     "metadata": {},
     "output_type": "execute_result"
    }
   ],
   "source": [
    "np.mean(admission_dataset['Chance of Admit '][np.where(admission_dataset['University Rating'] == np.max(admission_dataset['University Rating']))[0]]) - \\\n",
    "np.mean(admission_dataset['Chance of Admit '][np.where(admission_dataset['University Rating'] == np.min(admission_dataset['University Rating']))[0]])"
   ]
  },
  {
   "cell_type": "markdown",
   "metadata": {},
   "source": [
    "#### **Задание 3.**\n",
    "Попробуем оценить значимость признаков для поступления. Какой из признаков имеет наибольшую положительную корреляцию с шансом поступления. "
   ]
  },
  {
   "cell_type": "code",
   "execution_count": 6,
   "metadata": {},
   "outputs": [
    {
     "data": {
      "text/plain": [
       "'CGPA'"
      ]
     },
     "execution_count": 6,
     "metadata": {},
     "output_type": "execute_result"
    }
   ],
   "source": [
    "admission_dataset.corrwith(admission_dataset['Chance of Admit '])[:-1].argmax()"
   ]
  },
  {
   "cell_type": "markdown",
   "metadata": {},
   "source": [
    "#### **Задание 4.**\n",
    "Посмотрим на самый важный признак, найденный нами ранее. Постройте диаграмму рассеивания(scatter plot) между данным признаком и вероятностью поступления. Как изменяется влияние признака на вероятность поступления в зависимости от значения признака?\n"
   ]
  },
  {
   "cell_type": "code",
   "execution_count": 7,
   "metadata": {},
   "outputs": [],
   "source": [
    "#your code here"
   ]
  },
  {
   "cell_type": "code",
   "execution_count": 8,
   "metadata": {},
   "outputs": [
    {
     "data": {
      "text/plain": [
       "<matplotlib.collections.PathCollection at 0x1ce0ced1c88>"
      ]
     },
     "execution_count": 8,
     "metadata": {},
     "output_type": "execute_result"
    },
    {
     "data": {
      "image/png": "[encoded data removed]",
      "text/plain": [
       "<Figure size 432x288 with 1 Axes>"
      ]
     },
     "metadata": {
      "needs_background": "light"
     },
     "output_type": "display_data"
    }
   ],
   "source": [
    "plt.scatter(admission_dataset['CGPA'], admission_dataset['Chance of Admit '])"
   ]
  },
  {
   "cell_type": "markdown",
   "metadata": {},
   "source": [
    "Ответ: возрастает"
   ]
  },
  {
   "cell_type": "markdown",
   "metadata": {},
   "source": [
    "#### **Задание 5.**\n",
    "Построим распределение целевого признака. Куда смещено распределение шансов поступления для студентов, имеющих опыт исследований."
   ]
  },
  {
   "cell_type": "code",
   "execution_count": 9,
   "metadata": {},
   "outputs": [],
   "source": [
    "#your code here"
   ]
  },
  {
   "cell_type": "code",
   "execution_count": 10,
   "metadata": {},
   "outputs": [
    {
     "data": {
      "text/plain": [
       "<matplotlib.legend.Legend at 0x1ce0cf8e9b0>"
      ]
     },
     "execution_count": 10,
     "metadata": {},
     "output_type": "execute_result"
    },
    {
     "data": {
      "image/png": "[encoded data removed]",
      "text/plain": [
       "<Figure size 432x288 with 1 Axes>"
      ]
     },
     "metadata": {
      "needs_background": "light"
     },
     "output_type": "display_data"
    }
   ],
   "source": [
    "# распределение целевого признака\n",
    "sns.distplot(admission_dataset['CGPA'], label='CGPA')\n",
    "sns.distplot(admission_dataset['CGPA'][np.where(admission_dataset['Research'] == 1)[0]], label='CGPA + Research')\n",
    "plt.legend()"
   ]
  },
  {
   "cell_type": "markdown",
   "metadata": {},
   "source": [
    "Ответ: для студентов, имеющих опыт исследования, расспределение смещено вправо."
   ]
  },
  {
   "cell_type": "markdown",
   "metadata": {},
   "source": [
    "### **Часть 2.** Анализ нефтяных данных."
   ]
  },
  {
   "cell_type": "markdown",
   "metadata": {},
   "source": [
    "Загрузим данные"
   ]
  },
  {
   "cell_type": "code",
   "execution_count": 11,
   "metadata": {},
   "outputs": [],
   "source": [
    "well_data = pd.read_csv('contest_train_df.csv',parse_dates = ['Date','Start_date'])"
   ]
  },
  {
   "cell_type": "code",
   "execution_count": 12,
   "metadata": {},
   "outputs": [
    {
     "data": {
      "text/html": [
       "<div>\n",
       "<style scoped>\n",
       "    .dataframe tbody tr th:only-of-type {\n",
       "        vertical-align: middle;\n",
       "    }\n",
       "\n",
       "    .dataframe tbody tr th {\n",
       "        vertical-align: top;\n",
       "    }\n",
       "\n",
       "    .dataframe thead th {\n",
       "        text-align: right;\n",
       "    }\n",
       "</style>\n",
       "<table border=\"1\" class=\"dataframe\">\n",
       "  <thead>\n",
       "    <tr style=\"text-align: right;\">\n",
       "      <th></th>\n",
       "      <th>Dnytr</th>\n",
       "      <th>H_din</th>\n",
       "      <th>Q_OIS</th>\n",
       "      <th>NomMoschn</th>\n",
       "      <th>Hperf</th>\n",
       "      <th>NomNapor</th>\n",
       "      <th>Water_cut</th>\n",
       "      <th>NomPodacha</th>\n",
       "      <th>Dnkt</th>\n",
       "      <th>H_sp</th>\n",
       "      <th>...</th>\n",
       "      <th>State</th>\n",
       "      <th>IDN_type</th>\n",
       "      <th>NalichSep</th>\n",
       "      <th>Formation_lbl</th>\n",
       "      <th>state_age</th>\n",
       "      <th>Date</th>\n",
       "      <th>Start_date</th>\n",
       "      <th>Well_ID</th>\n",
       "      <th>id</th>\n",
       "      <th>VNR</th>\n",
       "    </tr>\n",
       "  </thead>\n",
       "  <tbody>\n",
       "    <tr>\n",
       "      <th>2782437</th>\n",
       "      <td>129.0</td>\n",
       "      <td>2500.0</td>\n",
       "      <td>30.0</td>\n",
       "      <td>40.0</td>\n",
       "      <td>51.0</td>\n",
       "      <td>2190.0</td>\n",
       "      <td>9.0</td>\n",
       "      <td>50.0</td>\n",
       "      <td>73.0</td>\n",
       "      <td>2652.0</td>\n",
       "      <td>...</td>\n",
       "      <td>1</td>\n",
       "      <td>0</td>\n",
       "      <td>1.0</td>\n",
       "      <td>3,5</td>\n",
       "      <td>625.0</td>\n",
       "      <td>1980-01-04</td>\n",
       "      <td>1979-12-28</td>\n",
       "      <td>6200</td>\n",
       "      <td>42565</td>\n",
       "      <td>1</td>\n",
       "    </tr>\n",
       "    <tr>\n",
       "      <th>2782438</th>\n",
       "      <td>130.6</td>\n",
       "      <td>2269.0</td>\n",
       "      <td>64.0</td>\n",
       "      <td>50.0</td>\n",
       "      <td>22.0</td>\n",
       "      <td>2393.0</td>\n",
       "      <td>5.0</td>\n",
       "      <td>50.0</td>\n",
       "      <td>73.0</td>\n",
       "      <td>2791.0</td>\n",
       "      <td>...</td>\n",
       "      <td>1</td>\n",
       "      <td>0</td>\n",
       "      <td>0.0</td>\n",
       "      <td>35</td>\n",
       "      <td>71.0</td>\n",
       "      <td>1980-01-04</td>\n",
       "      <td>1979-12-24</td>\n",
       "      <td>7465</td>\n",
       "      <td>52512</td>\n",
       "      <td>1</td>\n",
       "    </tr>\n",
       "    <tr>\n",
       "      <th>2782439</th>\n",
       "      <td>130.6</td>\n",
       "      <td>NaN</td>\n",
       "      <td>396.0</td>\n",
       "      <td>180.0</td>\n",
       "      <td>13.0</td>\n",
       "      <td>2000.0</td>\n",
       "      <td>95.0</td>\n",
       "      <td>200.0</td>\n",
       "      <td>73.0</td>\n",
       "      <td>2260.0</td>\n",
       "      <td>...</td>\n",
       "      <td>1</td>\n",
       "      <td>1</td>\n",
       "      <td>1.0</td>\n",
       "      <td>23</td>\n",
       "      <td>19.0</td>\n",
       "      <td>1980-01-04</td>\n",
       "      <td>1979-12-26</td>\n",
       "      <td>806</td>\n",
       "      <td>4545</td>\n",
       "      <td>1</td>\n",
       "    </tr>\n",
       "    <tr>\n",
       "      <th>2782440</th>\n",
       "      <td>129.0</td>\n",
       "      <td>1576.0</td>\n",
       "      <td>430.0</td>\n",
       "      <td>300.0</td>\n",
       "      <td>22.0</td>\n",
       "      <td>1762.0</td>\n",
       "      <td>97.0</td>\n",
       "      <td>500.0</td>\n",
       "      <td>73.0</td>\n",
       "      <td>2005.0</td>\n",
       "      <td>...</td>\n",
       "      <td>1</td>\n",
       "      <td>0</td>\n",
       "      <td>0.0</td>\n",
       "      <td>7,8</td>\n",
       "      <td>673.0</td>\n",
       "      <td>1980-01-04</td>\n",
       "      <td>1979-12-20</td>\n",
       "      <td>3323</td>\n",
       "      <td>22188</td>\n",
       "      <td>1</td>\n",
       "    </tr>\n",
       "  </tbody>\n",
       "</table>\n",
       "<p>4 rows × 34 columns</p>\n",
       "</div>"
      ],
      "text/plain": [
       "         Dnytr   H_din  Q_OIS  NomMoschn  Hperf  NomNapor  Water_cut  \\\n",
       "2782437  129.0  2500.0   30.0       40.0   51.0    2190.0        9.0   \n",
       "2782438  130.6  2269.0   64.0       50.0   22.0    2393.0        5.0   \n",
       "2782439  130.6     NaN  396.0      180.0   13.0    2000.0       95.0   \n",
       "2782440  129.0  1576.0  430.0      300.0   22.0    1762.0       97.0   \n",
       "\n",
       "         NomPodacha  Dnkt    H_sp  ...  State  IDN_type  NalichSep  \\\n",
       "2782437        50.0  73.0  2652.0  ...      1         0        1.0   \n",
       "2782438        50.0  73.0  2791.0  ...      1         0        0.0   \n",
       "2782439       200.0  73.0  2260.0  ...      1         1        1.0   \n",
       "2782440       500.0  73.0  2005.0  ...      1         0        0.0   \n",
       "\n",
       "         Formation_lbl  state_age       Date  Start_date  Well_ID     id  VNR  \n",
       "2782437            3,5      625.0 1980-01-04  1979-12-28     6200  42565    1  \n",
       "2782438             35       71.0 1980-01-04  1979-12-24     7465  52512    1  \n",
       "2782439             23       19.0 1980-01-04  1979-12-26      806   4545    1  \n",
       "2782440            7,8      673.0 1980-01-04  1979-12-20     3323  22188    1  \n",
       "\n",
       "[4 rows x 34 columns]"
      ]
     },
     "execution_count": 12,
     "metadata": {},
     "output_type": "execute_result"
    }
   ],
   "source": [
    "well_data.tail(4) # tail - нижние строки, head - верхние"
   ]
  },
  {
   "cell_type": "markdown",
   "metadata": {},
   "source": [
    "Если таблица не помещается на экран, то можно попробовать транспонировать(повернуть) таблицу."
   ]
  },
  {
   "cell_type": "code",
   "execution_count": 13,
   "metadata": {},
   "outputs": [
    {
     "data": {
      "text/html": [
       "<div>\n",
       "<style scoped>\n",
       "    .dataframe tbody tr th:only-of-type {\n",
       "        vertical-align: middle;\n",
       "    }\n",
       "\n",
       "    .dataframe tbody tr th {\n",
       "        vertical-align: top;\n",
       "    }\n",
       "\n",
       "    .dataframe thead th {\n",
       "        text-align: right;\n",
       "    }\n",
       "</style>\n",
       "<table border=\"1\" class=\"dataframe\">\n",
       "  <thead>\n",
       "    <tr style=\"text-align: right;\">\n",
       "      <th></th>\n",
       "      <th>2782437</th>\n",
       "      <th>2782438</th>\n",
       "      <th>2782439</th>\n",
       "      <th>2782440</th>\n",
       "    </tr>\n",
       "  </thead>\n",
       "  <tbody>\n",
       "    <tr>\n",
       "      <th>Dnytr</th>\n",
       "      <td>129</td>\n",
       "      <td>130.6</td>\n",
       "      <td>130.6</td>\n",
       "      <td>129</td>\n",
       "    </tr>\n",
       "    <tr>\n",
       "      <th>H_din</th>\n",
       "      <td>2500</td>\n",
       "      <td>2269</td>\n",
       "      <td>NaN</td>\n",
       "      <td>1576</td>\n",
       "    </tr>\n",
       "    <tr>\n",
       "      <th>Q_OIS</th>\n",
       "      <td>30</td>\n",
       "      <td>64</td>\n",
       "      <td>396</td>\n",
       "      <td>430</td>\n",
       "    </tr>\n",
       "    <tr>\n",
       "      <th>NomMoschn</th>\n",
       "      <td>40</td>\n",
       "      <td>50</td>\n",
       "      <td>180</td>\n",
       "      <td>300</td>\n",
       "    </tr>\n",
       "    <tr>\n",
       "      <th>Hperf</th>\n",
       "      <td>51</td>\n",
       "      <td>22</td>\n",
       "      <td>13</td>\n",
       "      <td>22</td>\n",
       "    </tr>\n",
       "    <tr>\n",
       "      <th>NomNapor</th>\n",
       "      <td>2190</td>\n",
       "      <td>2393</td>\n",
       "      <td>2000</td>\n",
       "      <td>1762</td>\n",
       "    </tr>\n",
       "    <tr>\n",
       "      <th>Water_cut</th>\n",
       "      <td>9</td>\n",
       "      <td>5</td>\n",
       "      <td>95</td>\n",
       "      <td>97</td>\n",
       "    </tr>\n",
       "    <tr>\n",
       "      <th>NomPodacha</th>\n",
       "      <td>50</td>\n",
       "      <td>50</td>\n",
       "      <td>200</td>\n",
       "      <td>500</td>\n",
       "    </tr>\n",
       "    <tr>\n",
       "      <th>Dnkt</th>\n",
       "      <td>73</td>\n",
       "      <td>73</td>\n",
       "      <td>73</td>\n",
       "      <td>73</td>\n",
       "    </tr>\n",
       "    <tr>\n",
       "      <th>H_sp</th>\n",
       "      <td>2652</td>\n",
       "      <td>2791</td>\n",
       "      <td>2260</td>\n",
       "      <td>2005</td>\n",
       "    </tr>\n",
       "    <tr>\n",
       "      <th>P_plst</th>\n",
       "      <td>252.049</td>\n",
       "      <td>234</td>\n",
       "      <td>207</td>\n",
       "      <td>194.8</td>\n",
       "    </tr>\n",
       "    <tr>\n",
       "      <th>Hvd</th>\n",
       "      <td>2826</td>\n",
       "      <td>2923</td>\n",
       "      <td>2524</td>\n",
       "      <td>2170</td>\n",
       "    </tr>\n",
       "    <tr>\n",
       "      <th>Extend_Hvd</th>\n",
       "      <td>158.09</td>\n",
       "      <td>446.021</td>\n",
       "      <td>80</td>\n",
       "      <td>152.5</td>\n",
       "    </tr>\n",
       "    <tr>\n",
       "      <th>PlNeft</th>\n",
       "      <td>0.869875</td>\n",
       "      <td>0.855</td>\n",
       "      <td>0.873</td>\n",
       "      <td>0.877</td>\n",
       "    </tr>\n",
       "    <tr>\n",
       "      <th>VyazkNeft</th>\n",
       "      <td>1.50125</td>\n",
       "      <td>1.34</td>\n",
       "      <td>3.08</td>\n",
       "      <td>3.9765</td>\n",
       "    </tr>\n",
       "    <tr>\n",
       "      <th>SumTolshin</th>\n",
       "      <td>29</td>\n",
       "      <td>11.4</td>\n",
       "      <td>10.4</td>\n",
       "      <td>29.4</td>\n",
       "    </tr>\n",
       "    <tr>\n",
       "      <th>P_zatr</th>\n",
       "      <td>22</td>\n",
       "      <td>12.9</td>\n",
       "      <td>NaN</td>\n",
       "      <td>0.1</td>\n",
       "    </tr>\n",
       "    <tr>\n",
       "      <th>PlVody</th>\n",
       "      <td>1.00814</td>\n",
       "      <td>1.003</td>\n",
       "      <td>1.01</td>\n",
       "      <td>1.008</td>\n",
       "    </tr>\n",
       "    <tr>\n",
       "      <th>Pnas</th>\n",
       "      <td>114.75</td>\n",
       "      <td>116</td>\n",
       "      <td>77.9</td>\n",
       "      <td>68.31</td>\n",
       "    </tr>\n",
       "    <tr>\n",
       "      <th>Inject_0</th>\n",
       "      <td>67.3226</td>\n",
       "      <td>474.29</td>\n",
       "      <td>997.613</td>\n",
       "      <td>1210.1</td>\n",
       "    </tr>\n",
       "    <tr>\n",
       "      <th>Inject_1</th>\n",
       "      <td>110.419</td>\n",
       "      <td>229.806</td>\n",
       "      <td>674.065</td>\n",
       "      <td>NaN</td>\n",
       "    </tr>\n",
       "    <tr>\n",
       "      <th>Inject_2</th>\n",
       "      <td>199.355</td>\n",
       "      <td>284.935</td>\n",
       "      <td>NaN</td>\n",
       "      <td>67.2581</td>\n",
       "    </tr>\n",
       "    <tr>\n",
       "      <th>Inject_3</th>\n",
       "      <td>125.129</td>\n",
       "      <td>48.129</td>\n",
       "      <td>NaN</td>\n",
       "      <td>594.226</td>\n",
       "    </tr>\n",
       "    <tr>\n",
       "      <th>BHP</th>\n",
       "      <td>46.13</td>\n",
       "      <td>52.68</td>\n",
       "      <td>71.08</td>\n",
       "      <td>44.74</td>\n",
       "    </tr>\n",
       "    <tr>\n",
       "      <th>State</th>\n",
       "      <td>1</td>\n",
       "      <td>1</td>\n",
       "      <td>1</td>\n",
       "      <td>1</td>\n",
       "    </tr>\n",
       "    <tr>\n",
       "      <th>IDN_type</th>\n",
       "      <td>0</td>\n",
       "      <td>0</td>\n",
       "      <td>1</td>\n",
       "      <td>0</td>\n",
       "    </tr>\n",
       "    <tr>\n",
       "      <th>NalichSep</th>\n",
       "      <td>1</td>\n",
       "      <td>0</td>\n",
       "      <td>1</td>\n",
       "      <td>0</td>\n",
       "    </tr>\n",
       "    <tr>\n",
       "      <th>Formation_lbl</th>\n",
       "      <td>3,5</td>\n",
       "      <td>35</td>\n",
       "      <td>23</td>\n",
       "      <td>7,8</td>\n",
       "    </tr>\n",
       "    <tr>\n",
       "      <th>state_age</th>\n",
       "      <td>625</td>\n",
       "      <td>71</td>\n",
       "      <td>19</td>\n",
       "      <td>673</td>\n",
       "    </tr>\n",
       "    <tr>\n",
       "      <th>Date</th>\n",
       "      <td>1980-01-04 00:00:00</td>\n",
       "      <td>1980-01-04 00:00:00</td>\n",
       "      <td>1980-01-04 00:00:00</td>\n",
       "      <td>1980-01-04 00:00:00</td>\n",
       "    </tr>\n",
       "    <tr>\n",
       "      <th>Start_date</th>\n",
       "      <td>1979-12-28 00:00:00</td>\n",
       "      <td>1979-12-24 00:00:00</td>\n",
       "      <td>1979-12-26 00:00:00</td>\n",
       "      <td>1979-12-20 00:00:00</td>\n",
       "    </tr>\n",
       "    <tr>\n",
       "      <th>Well_ID</th>\n",
       "      <td>6200</td>\n",
       "      <td>7465</td>\n",
       "      <td>806</td>\n",
       "      <td>3323</td>\n",
       "    </tr>\n",
       "    <tr>\n",
       "      <th>id</th>\n",
       "      <td>42565</td>\n",
       "      <td>52512</td>\n",
       "      <td>4545</td>\n",
       "      <td>22188</td>\n",
       "    </tr>\n",
       "    <tr>\n",
       "      <th>VNR</th>\n",
       "      <td>1</td>\n",
       "      <td>1</td>\n",
       "      <td>1</td>\n",
       "      <td>1</td>\n",
       "    </tr>\n",
       "  </tbody>\n",
       "</table>\n",
       "</div>"
      ],
      "text/plain": [
       "                           2782437              2782438              2782439  \\\n",
       "Dnytr                          129                130.6                130.6   \n",
       "H_din                         2500                 2269                  NaN   \n",
       "Q_OIS                           30                   64                  396   \n",
       "NomMoschn                       40                   50                  180   \n",
       "Hperf                           51                   22                   13   \n",
       "NomNapor                      2190                 2393                 2000   \n",
       "Water_cut                        9                    5                   95   \n",
       "NomPodacha                      50                   50                  200   \n",
       "Dnkt                            73                   73                   73   \n",
       "H_sp                          2652                 2791                 2260   \n",
       "P_plst                     252.049                  234                  207   \n",
       "Hvd                           2826                 2923                 2524   \n",
       "Extend_Hvd                  158.09              446.021                   80   \n",
       "PlNeft                    0.869875                0.855                0.873   \n",
       "VyazkNeft                  1.50125                 1.34                 3.08   \n",
       "SumTolshin                      29                 11.4                 10.4   \n",
       "P_zatr                          22                 12.9                  NaN   \n",
       "PlVody                     1.00814                1.003                 1.01   \n",
       "Pnas                        114.75                  116                 77.9   \n",
       "Inject_0                   67.3226               474.29              997.613   \n",
       "Inject_1                   110.419              229.806              674.065   \n",
       "Inject_2                   199.355              284.935                  NaN   \n",
       "Inject_3                   125.129               48.129                  NaN   \n",
       "BHP                          46.13                52.68                71.08   \n",
       "State                            1                    1                    1   \n",
       "IDN_type                         0                    0                    1   \n",
       "NalichSep                        1                    0                    1   \n",
       "Formation_lbl                  3,5                   35                   23   \n",
       "state_age                      625                   71                   19   \n",
       "Date           1980-01-04 00:00:00  1980-01-04 00:00:00  1980-01-04 00:00:00   \n",
       "Start_date     1979-12-28 00:00:00  1979-12-24 00:00:00  1979-12-26 00:00:00   \n",
       "Well_ID                       6200                 7465                  806   \n",
       "id                           42565                52512                 4545   \n",
       "VNR                              1                    1                    1   \n",
       "\n",
       "                           2782440  \n",
       "Dnytr                          129  \n",
       "H_din                         1576  \n",
       "Q_OIS                          430  \n",
       "NomMoschn                      300  \n",
       "Hperf                           22  \n",
       "NomNapor                      1762  \n",
       "Water_cut                       97  \n",
       "NomPodacha                     500  \n",
       "Dnkt                            73  \n",
       "H_sp                          2005  \n",
       "P_plst                       194.8  \n",
       "Hvd                           2170  \n",
       "Extend_Hvd                   152.5  \n",
       "PlNeft                       0.877  \n",
       "VyazkNeft                   3.9765  \n",
       "SumTolshin                    29.4  \n",
       "P_zatr                         0.1  \n",
       "PlVody                       1.008  \n",
       "Pnas                         68.31  \n",
       "Inject_0                    1210.1  \n",
       "Inject_1                       NaN  \n",
       "Inject_2                   67.2581  \n",
       "Inject_3                   594.226  \n",
       "BHP                          44.74  \n",
       "State                            1  \n",
       "IDN_type                         0  \n",
       "NalichSep                        0  \n",
       "Formation_lbl                  7,8  \n",
       "state_age                      673  \n",
       "Date           1980-01-04 00:00:00  \n",
       "Start_date     1979-12-20 00:00:00  \n",
       "Well_ID                       3323  \n",
       "id                           22188  \n",
       "VNR                              1  "
      ]
     },
     "execution_count": 13,
     "metadata": {},
     "output_type": "execute_result"
    }
   ],
   "source": [
    "well_data.tail(4).T #T - операция транспонирования(transpose)"
   ]
  },
  {
   "cell_type": "markdown",
   "metadata": {},
   "source": [
    "#### **Задание 6.**\n",
    "В какое время года чаще всего проводят мероприятие? Датой проведения мероприятия будем считать дату выхода на режим (VNR==1)."
   ]
  },
  {
   "cell_type": "code",
   "execution_count": 14,
   "metadata": {},
   "outputs": [
    {
     "name": "stdout",
     "output_type": "stream",
     "text": [
      "autumn\n"
     ]
    }
   ],
   "source": [
    "d = {'winter': 0, 'spring': 0, 'summer': 0, 'autumn': 0}\n",
    "for i in well_data['Date'][np.where(well_data['VNR'] == 1)[0]]:\n",
    "    value = i.month\n",
    "    if value == 12 or value == 1 or value == 2:\n",
    "        d['winter'] += 1\n",
    "    elif value == 3 or value == 4 or value == 5:\n",
    "        d['spring'] += 1\n",
    "    elif value == 6 or value == 7 or value == 8:\n",
    "        d['summer'] += 1\n",
    "    elif value == 9 or value == 10 or value == 11:\n",
    "        d['autumn'] += 1\n",
    "\n",
    "for i in d:\n",
    "    if d[i] == max(d.values()):\n",
    "        print(i)\n",
    "        break"
   ]
  },
  {
   "cell_type": "markdown",
   "metadata": {},
   "source": [
    "#### **Задание 7.**\n",
    "На одной скважине мероприятие может проводиться несколько раз. Какое максимальное число проведенных мероприятий на одной скважине. \n",
    "\n",
    "**Well_ID - идентификатор скважины, id - идентификатор мероприятия*"
   ]
  },
  {
   "cell_type": "code",
   "execution_count": 15,
   "metadata": {},
   "outputs": [],
   "source": [
    "def func_max(data):\n",
    "    max_ = data[data.Date >= data.Start_date].shape[0]\n",
    "    return max_"
   ]
  },
  {
   "cell_type": "code",
   "execution_count": 16,
   "metadata": {},
   "outputs": [],
   "source": [
    "df_grouped = well_data.groupby('Well_ID').apply(func_max)"
   ]
  },
  {
   "cell_type": "code",
   "execution_count": 17,
   "metadata": {},
   "outputs": [
    {
     "data": {
      "text/plain": [
       "171"
      ]
     },
     "execution_count": 17,
     "metadata": {},
     "output_type": "execute_result"
    }
   ],
   "source": [
    "df_grouped.max()"
   ]
  },
  {
   "cell_type": "markdown",
   "metadata": {},
   "source": [
    "#### **Задание 8.**\n",
    "Посмотрим как улучшаются показатели скважины после проведения мероприятия. На сколько в среднем увеличивается Q_OIS на дату выхода на режим по сравнению со средними Q_OIS до начала мероприятия(Start_date)?\n",
    "\n",
    "**Группировку нужно выполнять по признаку id.*\n"
   ]
  },
  {
   "cell_type": "code",
   "execution_count": 18,
   "metadata": {},
   "outputs": [],
   "source": [
    "def func(data):\n",
    "    mean_before = data[data.VNR==0][data.Date < data.Start_date].Q_OIS.mean()\n",
    "    mean_after = data[data.VNR==1].Q_OIS.values[0]\n",
    "    return {'mean_before': mean_before, 'mean_after': mean_after}"
   ]
  },
  {
   "cell_type": "code",
   "execution_count": 19,
   "metadata": {},
   "outputs": [],
   "source": [
    "dataset = well_data.groupby('id').apply(func)\n",
    "dataset = pd.DataFrame.from_records(dataset.values)"
   ]
  },
  {
   "cell_type": "code",
   "execution_count": 20,
   "metadata": {},
   "outputs": [
    {
     "data": {
      "text/html": [
       "<div>\n",
       "<style scoped>\n",
       "    .dataframe tbody tr th:only-of-type {\n",
       "        vertical-align: middle;\n",
       "    }\n",
       "\n",
       "    .dataframe tbody tr th {\n",
       "        vertical-align: top;\n",
       "    }\n",
       "\n",
       "    .dataframe thead th {\n",
       "        text-align: right;\n",
       "    }\n",
       "</style>\n",
       "<table border=\"1\" class=\"dataframe\">\n",
       "  <thead>\n",
       "    <tr style=\"text-align: right;\">\n",
       "      <th></th>\n",
       "      <th>mean_before</th>\n",
       "      <th>mean_after</th>\n",
       "    </tr>\n",
       "  </thead>\n",
       "  <tbody>\n",
       "    <tr>\n",
       "      <th>0</th>\n",
       "      <td>1122.068571</td>\n",
       "      <td>1104.0</td>\n",
       "    </tr>\n",
       "    <tr>\n",
       "      <th>1</th>\n",
       "      <td>418.269006</td>\n",
       "      <td>450.0</td>\n",
       "    </tr>\n",
       "    <tr>\n",
       "      <th>2</th>\n",
       "      <td>418.177215</td>\n",
       "      <td>304.0</td>\n",
       "    </tr>\n",
       "    <tr>\n",
       "      <th>3</th>\n",
       "      <td>1128.247126</td>\n",
       "      <td>1118.0</td>\n",
       "    </tr>\n",
       "    <tr>\n",
       "      <th>4</th>\n",
       "      <td>1062.788235</td>\n",
       "      <td>1100.0</td>\n",
       "    </tr>\n",
       "  </tbody>\n",
       "</table>\n",
       "</div>"
      ],
      "text/plain": [
       "   mean_before  mean_after\n",
       "0  1122.068571      1104.0\n",
       "1   418.269006       450.0\n",
       "2   418.177215       304.0\n",
       "3  1128.247126      1118.0\n",
       "4  1062.788235      1100.0"
      ]
     },
     "execution_count": 20,
     "metadata": {},
     "output_type": "execute_result"
    }
   ],
   "source": [
    "dataset.head()"
   ]
  },
  {
   "cell_type": "code",
   "execution_count": 21,
   "metadata": {},
   "outputs": [
    {
     "data": {
      "text/plain": [
       "55.258"
      ]
     },
     "execution_count": 21,
     "metadata": {},
     "output_type": "execute_result"
    }
   ],
   "source": [
    "np.round((dataset['mean_after'] - dataset['mean_before']).mean(), 3)"
   ]
  }
 ],
 "metadata": {
  "kernelspec": {
   "display_name": "Python 3",
   "language": "python",
   "name": "python3"
  },
  "language_info": {
   "codemirror_mode": {
    "name": "ipython",
    "version": 3
   },
   "file_extension": ".py",
   "mimetype": "text/x-python",
   "name": "python",
   "nbconvert_exporter": "python",
   "pygments_lexer": "ipython3",
   "version": "3.7.3"
  },
  "toc": {
   "base_numbering": 1,
   "nav_menu": {},
   "number_sections": true,
   "sideBar": true,
   "skip_h1_title": false,
   "title_cell": "Table of Contents",
   "title_sidebar": "Contents",
   "toc_cell": false,
   "toc_position": {},
   "toc_section_display": true,
   "toc_window_display": false
  }
 },
 "nbformat": 4,
 "nbformat_minor": 4
}
