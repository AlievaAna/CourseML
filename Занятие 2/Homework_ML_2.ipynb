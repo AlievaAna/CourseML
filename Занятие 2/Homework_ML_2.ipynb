{
 "cells": [
  {
   "cell_type": "markdown",
   "metadata": {},
   "source": [
    "**Неделя 2. Домашнее задание**"
   ]
  },
  {
   "cell_type": "code",
   "execution_count": 1,
   "metadata": {},
   "outputs": [],
   "source": [
    "import pandas as pd\n",
    "import numpy as np"
   ]
  },
  {
   "cell_type": "code",
   "execution_count": 2,
   "metadata": {},
   "outputs": [],
   "source": [
    "# чтение данных из файла с расширением .csv\n",
    "df = pd.read_csv('contest_train_df.csv')"
   ]
  },
  {
   "cell_type": "markdown",
   "metadata": {},
   "source": [
    "**Вопрос 1.** Какое значение лежит в колонке Formation_lbl по индексу 297?"
   ]
  },
  {
   "cell_type": "code",
   "execution_count": 3,
   "metadata": {},
   "outputs": [
    {
     "data": {
      "text/plain": [
       "'23'"
      ]
     },
     "execution_count": 3,
     "metadata": {},
     "output_type": "execute_result"
    }
   ],
   "source": [
    "df['Formation_lbl'].iloc[297]"
   ]
  },
  {
   "cell_type": "markdown",
   "metadata": {},
   "source": [
    "**Вопрос 2.** Сколько в датасете признаков, у которых всего 2 уникальных значения?"
   ]
  },
  {
   "cell_type": "code",
   "execution_count": 4,
   "metadata": {},
   "outputs": [
    {
     "data": {
      "text/plain": [
       "4"
      ]
     },
     "execution_count": 4,
     "metadata": {},
     "output_type": "execute_result"
    }
   ],
   "source": [
    "sum([1 for i in range(df.shape[1]) if df[df.columns[i]].nunique() == 2])"
   ]
  },
  {
   "cell_type": "markdown",
   "metadata": {},
   "source": [
    "**Вопрос 3.** Сколько уникальных значений в признаке Water_cut?"
   ]
  },
  {
   "cell_type": "code",
   "execution_count": 5,
   "metadata": {},
   "outputs": [
    {
     "data": {
      "text/plain": [
       "673"
      ]
     },
     "execution_count": 5,
     "metadata": {},
     "output_type": "execute_result"
    }
   ],
   "source": [
    "df['Water_cut'].nunique()"
   ]
  },
  {
   "cell_type": "markdown",
   "metadata": {},
   "source": [
    "**Вопрос 4.** Совпадает ли медиана и среднее у признака Extend_Hvd?"
   ]
  },
  {
   "cell_type": "code",
   "execution_count": 6,
   "metadata": {},
   "outputs": [
    {
     "name": "stdout",
     "output_type": "stream",
     "text": [
      "нет\n"
     ]
    }
   ],
   "source": [
    "if df['Extend_Hvd'].median() == df['Extend_Hvd'].mean():\n",
    "    print('да')\n",
    "else:\n",
    "    print('нет')"
   ]
  },
  {
   "cell_type": "markdown",
   "metadata": {},
   "source": [
    "**Вопрос 5.** Какое максимальное значение у признака NomPodacha?"
   ]
  },
  {
   "cell_type": "code",
   "execution_count": 7,
   "metadata": {},
   "outputs": [
    {
     "data": {
      "text/plain": [
       "1325.0"
      ]
     },
     "execution_count": 7,
     "metadata": {},
     "output_type": "execute_result"
    }
   ],
   "source": [
    "df['NomPodacha'].max()"
   ]
  },
  {
   "cell_type": "markdown",
   "metadata": {},
   "source": [
    "**Вопрос 6.** Каков процент (%) пропусков в колонке NomNapor? Округлите ответ до двух знаков после запятой."
   ]
  },
  {
   "cell_type": "code",
   "execution_count": 8,
   "metadata": {},
   "outputs": [
    {
     "data": {
      "text/plain": [
       "4.43"
      ]
     },
     "execution_count": 8,
     "metadata": {},
     "output_type": "execute_result"
    }
   ],
   "source": [
    "np.round(df['NomNapor'].isnull().sum() / df['NomNapor'].size * 100, 2)"
   ]
  },
  {
   "cell_type": "markdown",
   "metadata": {},
   "source": [
    "**Вопрос 7.** Во сколько раз уменьшится размер датафрейма если сделать drop_duplicates по колонкам 'Dnkt','Dnytr'? Округлите ответ до целых."
   ]
  },
  {
   "cell_type": "code",
   "execution_count": 9,
   "metadata": {},
   "outputs": [
    {
     "data": {
      "text/plain": [
       "1076.0"
      ]
     },
     "execution_count": 9,
     "metadata": {},
     "output_type": "execute_result"
    }
   ],
   "source": [
    "np.round(df.shape[0] / df.drop_duplicates(subset=['Dnkt', 'Dnytr']).shape[0])"
   ]
  },
  {
   "cell_type": "markdown",
   "metadata": {},
   "source": [
    "**Вопрос 8.** Изменится ли среднее значение признака NomNapor если заполнить в нём пропуски значением 0?"
   ]
  },
  {
   "cell_type": "code",
   "execution_count": 10,
   "metadata": {},
   "outputs": [
    {
     "name": "stdout",
     "output_type": "stream",
     "text": [
      "да\n"
     ]
    }
   ],
   "source": [
    "if df['NomNapor'].fillna(0).mean() != df['NomNapor'].mean():\n",
    "    print('да')\n",
    "else:\n",
    "    print('нет')"
   ]
  },
  {
   "cell_type": "markdown",
   "metadata": {},
   "source": [
    "**Вопрос 9.** У скольки объектов при группировке по Well_ID среднее и медиана по признаку state_age не равны?"
   ]
  },
  {
   "cell_type": "code",
   "execution_count": 11,
   "metadata": {},
   "outputs": [
    {
     "data": {
      "text/plain": [
       "state_age    3843\n",
       "dtype: int64"
      ]
     },
     "execution_count": 11,
     "metadata": {},
     "output_type": "execute_result"
    }
   ],
   "source": [
    "df_grouped = df.groupby('Well_ID')\n",
    "df_grouped.aggregate({'state_age':lambda x: \n",
    "                      np.round(np.median(x))!=np.round(np.mean(x))}).sum()"
   ]
  },
  {
   "cell_type": "markdown",
   "metadata": {},
   "source": [
    "**Вопрос 10.** С помощью функции aggregate найдите максимум, минимум, медиану по признакам Q_OIS, Water_cut, NomMoschn, P_plst для каждой скважины (по датафрейму, сгруппированному по Well_ID).  \n",
    "Посчитайте коэффициент корреляции Пирсона для этих агрегатов.  \n",
    "Есть ли среди этих агрегатов такие, коэффициент корреляции у которых больше 0.8?"
   ]
  },
  {
   "cell_type": "code",
   "execution_count": 12,
   "metadata": {},
   "outputs": [
    {
     "data": {
      "text/html": [
       "<div>\n",
       "<style scoped>\n",
       "    .dataframe tbody tr th:only-of-type {\n",
       "        vertical-align: middle;\n",
       "    }\n",
       "\n",
       "    .dataframe tbody tr th {\n",
       "        vertical-align: top;\n",
       "    }\n",
       "\n",
       "    .dataframe thead tr th {\n",
       "        text-align: left;\n",
       "    }\n",
       "\n",
       "    .dataframe thead tr:last-of-type th {\n",
       "        text-align: right;\n",
       "    }\n",
       "</style>\n",
       "<table border=\"1\" class=\"dataframe\">\n",
       "  <thead>\n",
       "    <tr>\n",
       "      <th></th>\n",
       "      <th colspan=\"4\" halign=\"left\">max</th>\n",
       "      <th colspan=\"4\" halign=\"left\">min</th>\n",
       "      <th colspan=\"4\" halign=\"left\">mean</th>\n",
       "    </tr>\n",
       "    <tr>\n",
       "      <th></th>\n",
       "      <th>NomMoschn</th>\n",
       "      <th>P_plst</th>\n",
       "      <th>Q_OIS</th>\n",
       "      <th>Water_cut</th>\n",
       "      <th>NomMoschn</th>\n",
       "      <th>P_plst</th>\n",
       "      <th>Q_OIS</th>\n",
       "      <th>Water_cut</th>\n",
       "      <th>NomMoschn</th>\n",
       "      <th>P_plst</th>\n",
       "      <th>Q_OIS</th>\n",
       "      <th>Water_cut</th>\n",
       "    </tr>\n",
       "    <tr>\n",
       "      <th>Well_ID</th>\n",
       "      <th></th>\n",
       "      <th></th>\n",
       "      <th></th>\n",
       "      <th></th>\n",
       "      <th></th>\n",
       "      <th></th>\n",
       "      <th></th>\n",
       "      <th></th>\n",
       "      <th></th>\n",
       "      <th></th>\n",
       "      <th></th>\n",
       "      <th></th>\n",
       "    </tr>\n",
       "  </thead>\n",
       "  <tbody>\n",
       "    <tr>\n",
       "      <th>0</th>\n",
       "      <td>552.0</td>\n",
       "      <td>165.0</td>\n",
       "      <td>1150.0</td>\n",
       "      <td>88.0</td>\n",
       "      <td>552.0</td>\n",
       "      <td>162.0</td>\n",
       "      <td>0.0</td>\n",
       "      <td>83.0</td>\n",
       "      <td>552.000000</td>\n",
       "      <td>162.897297</td>\n",
       "      <td>1079.049180</td>\n",
       "      <td>85.625000</td>\n",
       "    </tr>\n",
       "    <tr>\n",
       "      <th>1</th>\n",
       "      <td>238.6</td>\n",
       "      <td>165.0</td>\n",
       "      <td>450.0</td>\n",
       "      <td>82.0</td>\n",
       "      <td>238.6</td>\n",
       "      <td>154.0</td>\n",
       "      <td>0.0</td>\n",
       "      <td>66.0</td>\n",
       "      <td>238.600000</td>\n",
       "      <td>159.684783</td>\n",
       "      <td>391.501859</td>\n",
       "      <td>78.118577</td>\n",
       "    </tr>\n",
       "    <tr>\n",
       "      <th>2</th>\n",
       "      <td>552.0</td>\n",
       "      <td>169.0</td>\n",
       "      <td>1152.0</td>\n",
       "      <td>81.0</td>\n",
       "      <td>552.0</td>\n",
       "      <td>168.0</td>\n",
       "      <td>0.0</td>\n",
       "      <td>78.0</td>\n",
       "      <td>552.000000</td>\n",
       "      <td>168.489011</td>\n",
       "      <td>1084.796703</td>\n",
       "      <td>80.108571</td>\n",
       "    </tr>\n",
       "    <tr>\n",
       "      <th>3</th>\n",
       "      <td>552.0</td>\n",
       "      <td>182.0</td>\n",
       "      <td>1100.0</td>\n",
       "      <td>93.0</td>\n",
       "      <td>552.0</td>\n",
       "      <td>166.0</td>\n",
       "      <td>0.0</td>\n",
       "      <td>72.0</td>\n",
       "      <td>552.000000</td>\n",
       "      <td>173.513514</td>\n",
       "      <td>953.243697</td>\n",
       "      <td>78.406542</td>\n",
       "    </tr>\n",
       "    <tr>\n",
       "      <th>4</th>\n",
       "      <td>552.0</td>\n",
       "      <td>213.0</td>\n",
       "      <td>1415.0</td>\n",
       "      <td>92.0</td>\n",
       "      <td>552.0</td>\n",
       "      <td>192.0</td>\n",
       "      <td>0.0</td>\n",
       "      <td>80.0</td>\n",
       "      <td>552.000000</td>\n",
       "      <td>203.500911</td>\n",
       "      <td>1061.748359</td>\n",
       "      <td>84.833333</td>\n",
       "    </tr>\n",
       "    <tr>\n",
       "      <th>...</th>\n",
       "      <td>...</td>\n",
       "      <td>...</td>\n",
       "      <td>...</td>\n",
       "      <td>...</td>\n",
       "      <td>...</td>\n",
       "      <td>...</td>\n",
       "      <td>...</td>\n",
       "      <td>...</td>\n",
       "      <td>...</td>\n",
       "      <td>...</td>\n",
       "      <td>...</td>\n",
       "      <td>...</td>\n",
       "    </tr>\n",
       "    <tr>\n",
       "      <th>8689</th>\n",
       "      <td>80.0</td>\n",
       "      <td>242.0</td>\n",
       "      <td>118.0</td>\n",
       "      <td>98.0</td>\n",
       "      <td>32.0</td>\n",
       "      <td>168.0</td>\n",
       "      <td>0.0</td>\n",
       "      <td>29.0</td>\n",
       "      <td>55.803815</td>\n",
       "      <td>187.027248</td>\n",
       "      <td>38.827957</td>\n",
       "      <td>65.560000</td>\n",
       "    </tr>\n",
       "    <tr>\n",
       "      <th>8690</th>\n",
       "      <td>56.0</td>\n",
       "      <td>242.0</td>\n",
       "      <td>104.0</td>\n",
       "      <td>94.0</td>\n",
       "      <td>32.0</td>\n",
       "      <td>187.0</td>\n",
       "      <td>0.0</td>\n",
       "      <td>19.0</td>\n",
       "      <td>47.936248</td>\n",
       "      <td>201.744991</td>\n",
       "      <td>25.975962</td>\n",
       "      <td>29.545455</td>\n",
       "    </tr>\n",
       "    <tr>\n",
       "      <th>8691</th>\n",
       "      <td>45.0</td>\n",
       "      <td>233.0</td>\n",
       "      <td>80.0</td>\n",
       "      <td>92.0</td>\n",
       "      <td>28.0</td>\n",
       "      <td>190.0</td>\n",
       "      <td>0.0</td>\n",
       "      <td>66.0</td>\n",
       "      <td>34.970909</td>\n",
       "      <td>214.154545</td>\n",
       "      <td>30.319767</td>\n",
       "      <td>83.816176</td>\n",
       "    </tr>\n",
       "    <tr>\n",
       "      <th>8692</th>\n",
       "      <td>36.0</td>\n",
       "      <td>165.0</td>\n",
       "      <td>45.0</td>\n",
       "      <td>70.0</td>\n",
       "      <td>32.0</td>\n",
       "      <td>163.0</td>\n",
       "      <td>0.0</td>\n",
       "      <td>60.0</td>\n",
       "      <td>34.557377</td>\n",
       "      <td>164.278689</td>\n",
       "      <td>18.080645</td>\n",
       "      <td>66.317073</td>\n",
       "    </tr>\n",
       "    <tr>\n",
       "      <th>8693</th>\n",
       "      <td>70.0</td>\n",
       "      <td>332.0</td>\n",
       "      <td>59.0</td>\n",
       "      <td>76.0</td>\n",
       "      <td>70.0</td>\n",
       "      <td>268.0</td>\n",
       "      <td>0.0</td>\n",
       "      <td>70.0</td>\n",
       "      <td>70.000000</td>\n",
       "      <td>301.211957</td>\n",
       "      <td>36.487805</td>\n",
       "      <td>75.371429</td>\n",
       "    </tr>\n",
       "  </tbody>\n",
       "</table>\n",
       "<p>7288 rows × 12 columns</p>\n",
       "</div>"
      ],
      "text/plain": [
       "              max                                min                         \\\n",
       "        NomMoschn P_plst   Q_OIS Water_cut NomMoschn P_plst Q_OIS Water_cut   \n",
       "Well_ID                                                                       \n",
       "0           552.0  165.0  1150.0      88.0     552.0  162.0   0.0      83.0   \n",
       "1           238.6  165.0   450.0      82.0     238.6  154.0   0.0      66.0   \n",
       "2           552.0  169.0  1152.0      81.0     552.0  168.0   0.0      78.0   \n",
       "3           552.0  182.0  1100.0      93.0     552.0  166.0   0.0      72.0   \n",
       "4           552.0  213.0  1415.0      92.0     552.0  192.0   0.0      80.0   \n",
       "...           ...    ...     ...       ...       ...    ...   ...       ...   \n",
       "8689         80.0  242.0   118.0      98.0      32.0  168.0   0.0      29.0   \n",
       "8690         56.0  242.0   104.0      94.0      32.0  187.0   0.0      19.0   \n",
       "8691         45.0  233.0    80.0      92.0      28.0  190.0   0.0      66.0   \n",
       "8692         36.0  165.0    45.0      70.0      32.0  163.0   0.0      60.0   \n",
       "8693         70.0  332.0    59.0      76.0      70.0  268.0   0.0      70.0   \n",
       "\n",
       "               mean                                      \n",
       "          NomMoschn      P_plst        Q_OIS  Water_cut  \n",
       "Well_ID                                                  \n",
       "0        552.000000  162.897297  1079.049180  85.625000  \n",
       "1        238.600000  159.684783   391.501859  78.118577  \n",
       "2        552.000000  168.489011  1084.796703  80.108571  \n",
       "3        552.000000  173.513514   953.243697  78.406542  \n",
       "4        552.000000  203.500911  1061.748359  84.833333  \n",
       "...             ...         ...          ...        ...  \n",
       "8689      55.803815  187.027248    38.827957  65.560000  \n",
       "8690      47.936248  201.744991    25.975962  29.545455  \n",
       "8691      34.970909  214.154545    30.319767  83.816176  \n",
       "8692      34.557377  164.278689    18.080645  66.317073  \n",
       "8693      70.000000  301.211957    36.487805  75.371429  \n",
       "\n",
       "[7288 rows x 12 columns]"
      ]
     },
     "execution_count": 12,
     "metadata": {},
     "output_type": "execute_result"
    }
   ],
   "source": [
    "agg_df = df.pivot_table(values=['Q_OIS', 'Water_cut', 'NomMoschn', 'P_plst'],\n",
    "               index='Well_ID',\n",
    "               aggfunc=['max','min','mean'])\n",
    "\n",
    "agg_df"
   ]
  },
  {
   "cell_type": "code",
   "execution_count": 13,
   "metadata": {},
   "outputs": [
    {
     "data": {
      "text/html": [
       "<div>\n",
       "<style scoped>\n",
       "    .dataframe tbody tr th:only-of-type {\n",
       "        vertical-align: middle;\n",
       "    }\n",
       "\n",
       "    .dataframe tbody tr th {\n",
       "        vertical-align: top;\n",
       "    }\n",
       "\n",
       "    .dataframe thead tr th {\n",
       "        text-align: left;\n",
       "    }\n",
       "</style>\n",
       "<table border=\"1\" class=\"dataframe\">\n",
       "  <thead>\n",
       "    <tr>\n",
       "      <th></th>\n",
       "      <th></th>\n",
       "      <th colspan=\"4\" halign=\"left\">max</th>\n",
       "      <th colspan=\"4\" halign=\"left\">min</th>\n",
       "      <th colspan=\"4\" halign=\"left\">mean</th>\n",
       "    </tr>\n",
       "    <tr>\n",
       "      <th></th>\n",
       "      <th></th>\n",
       "      <th>NomMoschn</th>\n",
       "      <th>P_plst</th>\n",
       "      <th>Q_OIS</th>\n",
       "      <th>Water_cut</th>\n",
       "      <th>NomMoschn</th>\n",
       "      <th>P_plst</th>\n",
       "      <th>Q_OIS</th>\n",
       "      <th>Water_cut</th>\n",
       "      <th>NomMoschn</th>\n",
       "      <th>P_plst</th>\n",
       "      <th>Q_OIS</th>\n",
       "      <th>Water_cut</th>\n",
       "    </tr>\n",
       "  </thead>\n",
       "  <tbody>\n",
       "    <tr>\n",
       "      <th rowspan=\"4\" valign=\"top\">max</th>\n",
       "      <th>NomMoschn</th>\n",
       "      <td>1.000000</td>\n",
       "      <td>-0.215784</td>\n",
       "      <td>0.806068</td>\n",
       "      <td>0.409845</td>\n",
       "      <td>0.725220</td>\n",
       "      <td>-0.290738</td>\n",
       "      <td>-0.005863</td>\n",
       "      <td>0.355815</td>\n",
       "      <td>0.934839</td>\n",
       "      <td>-0.274020</td>\n",
       "      <td>0.796733</td>\n",
       "      <td>0.436170</td>\n",
       "    </tr>\n",
       "    <tr>\n",
       "      <th>P_plst</th>\n",
       "      <td>-0.215784</td>\n",
       "      <td>1.000000</td>\n",
       "      <td>-0.343996</td>\n",
       "      <td>-0.365074</td>\n",
       "      <td>-0.237583</td>\n",
       "      <td>0.776625</td>\n",
       "      <td>-0.005528</td>\n",
       "      <td>-0.492744</td>\n",
       "      <td>-0.249047</td>\n",
       "      <td>0.921320</td>\n",
       "      <td>-0.364855</td>\n",
       "      <td>-0.454968</td>\n",
       "    </tr>\n",
       "    <tr>\n",
       "      <th>Q_OIS</th>\n",
       "      <td>0.806068</td>\n",
       "      <td>-0.343996</td>\n",
       "      <td>1.000000</td>\n",
       "      <td>0.530348</td>\n",
       "      <td>0.637487</td>\n",
       "      <td>-0.407702</td>\n",
       "      <td>-0.002539</td>\n",
       "      <td>0.505428</td>\n",
       "      <td>0.799497</td>\n",
       "      <td>-0.402329</td>\n",
       "      <td>0.893742</td>\n",
       "      <td>0.580629</td>\n",
       "    </tr>\n",
       "    <tr>\n",
       "      <th>Water_cut</th>\n",
       "      <td>0.409845</td>\n",
       "      <td>-0.365074</td>\n",
       "      <td>0.530348</td>\n",
       "      <td>1.000000</td>\n",
       "      <td>0.307717</td>\n",
       "      <td>-0.372213</td>\n",
       "      <td>0.004047</td>\n",
       "      <td>0.741859</td>\n",
       "      <td>0.396042</td>\n",
       "      <td>-0.386612</td>\n",
       "      <td>0.484103</td>\n",
       "      <td>0.924370</td>\n",
       "    </tr>\n",
       "    <tr>\n",
       "      <th rowspan=\"4\" valign=\"top\">min</th>\n",
       "      <th>NomMoschn</th>\n",
       "      <td>0.725220</td>\n",
       "      <td>-0.237583</td>\n",
       "      <td>0.637487</td>\n",
       "      <td>0.307717</td>\n",
       "      <td>1.000000</td>\n",
       "      <td>-0.186578</td>\n",
       "      <td>0.002769</td>\n",
       "      <td>0.398733</td>\n",
       "      <td>0.894460</td>\n",
       "      <td>-0.221176</td>\n",
       "      <td>0.736053</td>\n",
       "      <td>0.390028</td>\n",
       "    </tr>\n",
       "    <tr>\n",
       "      <th>P_plst</th>\n",
       "      <td>-0.290738</td>\n",
       "      <td>0.776625</td>\n",
       "      <td>-0.407702</td>\n",
       "      <td>-0.372213</td>\n",
       "      <td>-0.186578</td>\n",
       "      <td>1.000000</td>\n",
       "      <td>-0.004133</td>\n",
       "      <td>-0.364785</td>\n",
       "      <td>-0.273777</td>\n",
       "      <td>0.935577</td>\n",
       "      <td>-0.378598</td>\n",
       "      <td>-0.401667</td>\n",
       "    </tr>\n",
       "    <tr>\n",
       "      <th>Q_OIS</th>\n",
       "      <td>-0.005863</td>\n",
       "      <td>-0.005528</td>\n",
       "      <td>-0.002539</td>\n",
       "      <td>0.004047</td>\n",
       "      <td>0.002769</td>\n",
       "      <td>-0.004133</td>\n",
       "      <td>1.000000</td>\n",
       "      <td>0.012187</td>\n",
       "      <td>-0.002171</td>\n",
       "      <td>-0.005789</td>\n",
       "      <td>0.002143</td>\n",
       "      <td>0.008220</td>\n",
       "    </tr>\n",
       "    <tr>\n",
       "      <th>Water_cut</th>\n",
       "      <td>0.355815</td>\n",
       "      <td>-0.492744</td>\n",
       "      <td>0.505428</td>\n",
       "      <td>0.741859</td>\n",
       "      <td>0.398733</td>\n",
       "      <td>-0.364785</td>\n",
       "      <td>0.012187</td>\n",
       "      <td>1.000000</td>\n",
       "      <td>0.412720</td>\n",
       "      <td>-0.450164</td>\n",
       "      <td>0.516519</td>\n",
       "      <td>0.899323</td>\n",
       "    </tr>\n",
       "    <tr>\n",
       "      <th rowspan=\"4\" valign=\"top\">mean</th>\n",
       "      <th>NomMoschn</th>\n",
       "      <td>0.934839</td>\n",
       "      <td>-0.249047</td>\n",
       "      <td>0.799497</td>\n",
       "      <td>0.396042</td>\n",
       "      <td>0.894460</td>\n",
       "      <td>-0.273777</td>\n",
       "      <td>-0.002171</td>\n",
       "      <td>0.412720</td>\n",
       "      <td>1.000000</td>\n",
       "      <td>-0.279410</td>\n",
       "      <td>0.839936</td>\n",
       "      <td>0.456077</td>\n",
       "    </tr>\n",
       "    <tr>\n",
       "      <th>P_plst</th>\n",
       "      <td>-0.274020</td>\n",
       "      <td>0.921320</td>\n",
       "      <td>-0.402329</td>\n",
       "      <td>-0.386612</td>\n",
       "      <td>-0.221176</td>\n",
       "      <td>0.935577</td>\n",
       "      <td>-0.005789</td>\n",
       "      <td>-0.450164</td>\n",
       "      <td>-0.279410</td>\n",
       "      <td>1.000000</td>\n",
       "      <td>-0.396364</td>\n",
       "      <td>-0.449115</td>\n",
       "    </tr>\n",
       "    <tr>\n",
       "      <th>Q_OIS</th>\n",
       "      <td>0.796733</td>\n",
       "      <td>-0.364855</td>\n",
       "      <td>0.893742</td>\n",
       "      <td>0.484103</td>\n",
       "      <td>0.736053</td>\n",
       "      <td>-0.378598</td>\n",
       "      <td>0.002143</td>\n",
       "      <td>0.516519</td>\n",
       "      <td>0.839936</td>\n",
       "      <td>-0.396364</td>\n",
       "      <td>1.000000</td>\n",
       "      <td>0.552280</td>\n",
       "    </tr>\n",
       "    <tr>\n",
       "      <th>Water_cut</th>\n",
       "      <td>0.436170</td>\n",
       "      <td>-0.454968</td>\n",
       "      <td>0.580629</td>\n",
       "      <td>0.924370</td>\n",
       "      <td>0.390028</td>\n",
       "      <td>-0.401667</td>\n",
       "      <td>0.008220</td>\n",
       "      <td>0.899323</td>\n",
       "      <td>0.456077</td>\n",
       "      <td>-0.449115</td>\n",
       "      <td>0.552280</td>\n",
       "      <td>1.000000</td>\n",
       "    </tr>\n",
       "  </tbody>\n",
       "</table>\n",
       "</div>"
      ],
      "text/plain": [
       "                     max                                     min            \\\n",
       "               NomMoschn    P_plst     Q_OIS Water_cut NomMoschn    P_plst   \n",
       "max  NomMoschn  1.000000 -0.215784  0.806068  0.409845  0.725220 -0.290738   \n",
       "     P_plst    -0.215784  1.000000 -0.343996 -0.365074 -0.237583  0.776625   \n",
       "     Q_OIS      0.806068 -0.343996  1.000000  0.530348  0.637487 -0.407702   \n",
       "     Water_cut  0.409845 -0.365074  0.530348  1.000000  0.307717 -0.372213   \n",
       "min  NomMoschn  0.725220 -0.237583  0.637487  0.307717  1.000000 -0.186578   \n",
       "     P_plst    -0.290738  0.776625 -0.407702 -0.372213 -0.186578  1.000000   \n",
       "     Q_OIS     -0.005863 -0.005528 -0.002539  0.004047  0.002769 -0.004133   \n",
       "     Water_cut  0.355815 -0.492744  0.505428  0.741859  0.398733 -0.364785   \n",
       "mean NomMoschn  0.934839 -0.249047  0.799497  0.396042  0.894460 -0.273777   \n",
       "     P_plst    -0.274020  0.921320 -0.402329 -0.386612 -0.221176  0.935577   \n",
       "     Q_OIS      0.796733 -0.364855  0.893742  0.484103  0.736053 -0.378598   \n",
       "     Water_cut  0.436170 -0.454968  0.580629  0.924370  0.390028 -0.401667   \n",
       "\n",
       "                                        mean                                \n",
       "                   Q_OIS Water_cut NomMoschn    P_plst     Q_OIS Water_cut  \n",
       "max  NomMoschn -0.005863  0.355815  0.934839 -0.274020  0.796733  0.436170  \n",
       "     P_plst    -0.005528 -0.492744 -0.249047  0.921320 -0.364855 -0.454968  \n",
       "     Q_OIS     -0.002539  0.505428  0.799497 -0.402329  0.893742  0.580629  \n",
       "     Water_cut  0.004047  0.741859  0.396042 -0.386612  0.484103  0.924370  \n",
       "min  NomMoschn  0.002769  0.398733  0.894460 -0.221176  0.736053  0.390028  \n",
       "     P_plst    -0.004133 -0.364785 -0.273777  0.935577 -0.378598 -0.401667  \n",
       "     Q_OIS      1.000000  0.012187 -0.002171 -0.005789  0.002143  0.008220  \n",
       "     Water_cut  0.012187  1.000000  0.412720 -0.450164  0.516519  0.899323  \n",
       "mean NomMoschn -0.002171  0.412720  1.000000 -0.279410  0.839936  0.456077  \n",
       "     P_plst    -0.005789 -0.450164 -0.279410  1.000000 -0.396364 -0.449115  \n",
       "     Q_OIS      0.002143  0.516519  0.839936 -0.396364  1.000000  0.552280  \n",
       "     Water_cut  0.008220  0.899323  0.456077 -0.449115  0.552280  1.000000  "
      ]
     },
     "execution_count": 13,
     "metadata": {},
     "output_type": "execute_result"
    }
   ],
   "source": [
    "# таблица коэффициентов корреляции\n",
    "df_corr = agg_df.corr()\n",
    "df_corr"
   ]
  },
  {
   "cell_type": "code",
   "execution_count": 14,
   "metadata": {},
   "outputs": [
    {
     "name": "stdout",
     "output_type": "stream",
     "text": [
      "Агрегаты с коэффициентом корреляции > 0.8\n",
      "\n",
      "('max', 'NomMoschn') ('max', 'Q_OIS')\n",
      "('max', 'NomMoschn') ('mean', 'NomMoschn')\n",
      "('max', 'P_plst') ('mean', 'P_plst')\n",
      "('max', 'Q_OIS') ('mean', 'Q_OIS')\n",
      "('max', 'Water_cut') ('mean', 'Water_cut')\n",
      "('min', 'NomMoschn') ('mean', 'NomMoschn')\n",
      "('min', 'P_plst') ('mean', 'P_plst')\n",
      "('min', 'Water_cut') ('mean', 'Water_cut')\n",
      "('mean', 'NomMoschn') ('mean', 'Q_OIS')\n",
      "\n",
      "Всего:  9\n"
     ]
    }
   ],
   "source": [
    "# список агрегатов с КК > 0.8\n",
    "print('Агрегаты с коэффициентом корреляции > 0.8\\n')\n",
    "count = 0\n",
    "for i in range(df_corr.shape[0]):\n",
    "    for j in range(i + 1, df_corr.shape[0]):\n",
    "        if i != j and df_corr.iloc[i, j] > 0.8:\n",
    "            count += 1\n",
    "            print(df_corr.iloc[i].name, df_corr.columns[j])\n",
    "print('\\nВсего: ', count)"
   ]
  }
 ],
 "metadata": {
  "kernelspec": {
   "display_name": "Python 3",
   "language": "python",
   "name": "python3"
  },
  "language_info": {
   "codemirror_mode": {
    "name": "ipython",
    "version": 3
   },
   "file_extension": ".py",
   "mimetype": "text/x-python",
   "name": "python",
   "nbconvert_exporter": "python",
   "pygments_lexer": "ipython3",
   "version": "3.7.3"
  },
  "toc": {
   "base_numbering": 1,
   "nav_menu": {},
   "number_sections": true,
   "sideBar": true,
   "skip_h1_title": false,
   "title_cell": "Table of Contents",
   "title_sidebar": "Contents",
   "toc_cell": false,
   "toc_position": {},
   "toc_section_display": true,
   "toc_window_display": false
  }
 },
 "nbformat": 4,
 "nbformat_minor": 2
}
