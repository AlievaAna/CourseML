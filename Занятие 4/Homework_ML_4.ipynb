{
 "cells": [
  {
   "cell_type": "markdown",
   "metadata": {},
   "source": [
    "# Домашнее задание 4"
   ]
  },
  {
   "cell_type": "code",
   "execution_count": 1,
   "metadata": {},
   "outputs": [],
   "source": [
    "import numpy as np\n",
    "import matplotlib.pyplot as plt \n",
    "import pandas as pd \n",
    "\n",
    "import warnings\n",
    "warnings.filterwarnings('ignore')"
   ]
  },
  {
   "cell_type": "markdown",
   "metadata": {},
   "source": [
    "$\\begin{align}\n",
    "& (1\\ балл)\\ 1.\\ Сгенерируйте \\ датасет\\ из\\ 500\\ точек\\ на\\ плоскости,\\ для\\ которых\\ y = 0.5x + 1 + \\epsilon,\\ где\\ \\epsilon \\sim \\mathcal{N}(0, 0.2) \\\\\n",
    "&(воспользуйтесь\\ модулем\\ numpy.random)\\end{align}$"
   ]
  },
  {
   "cell_type": "code",
   "execution_count": 2,
   "metadata": {},
   "outputs": [],
   "source": [
    "# your code here"
   ]
  },
  {
   "cell_type": "code",
   "execution_count": 3,
   "metadata": {},
   "outputs": [],
   "source": [
    "x_array = [round(i*0.001, 3) for i in range(500)]\n",
    "y_array = [0.5*i + 1 + np.random.uniform(0, 0.2) for i in x_array]\n",
    "d = {'x': x_array, 'y': y_array}"
   ]
  },
  {
   "cell_type": "code",
   "execution_count": 4,
   "metadata": {},
   "outputs": [
    {
     "data": {
      "text/html": [
       "<div>\n",
       "<style scoped>\n",
       "    .dataframe tbody tr th:only-of-type {\n",
       "        vertical-align: middle;\n",
       "    }\n",
       "\n",
       "    .dataframe tbody tr th {\n",
       "        vertical-align: top;\n",
       "    }\n",
       "\n",
       "    .dataframe thead th {\n",
       "        text-align: right;\n",
       "    }\n",
       "</style>\n",
       "<table border=\"1\" class=\"dataframe\">\n",
       "  <thead>\n",
       "    <tr style=\"text-align: right;\">\n",
       "      <th></th>\n",
       "      <th>x</th>\n",
       "      <th>y</th>\n",
       "    </tr>\n",
       "  </thead>\n",
       "  <tbody>\n",
       "    <tr>\n",
       "      <th>0</th>\n",
       "      <td>0.000</td>\n",
       "      <td>1.049702</td>\n",
       "    </tr>\n",
       "    <tr>\n",
       "      <th>1</th>\n",
       "      <td>0.001</td>\n",
       "      <td>1.073658</td>\n",
       "    </tr>\n",
       "    <tr>\n",
       "      <th>2</th>\n",
       "      <td>0.002</td>\n",
       "      <td>1.152843</td>\n",
       "    </tr>\n",
       "    <tr>\n",
       "      <th>3</th>\n",
       "      <td>0.003</td>\n",
       "      <td>1.167409</td>\n",
       "    </tr>\n",
       "    <tr>\n",
       "      <th>4</th>\n",
       "      <td>0.004</td>\n",
       "      <td>1.023661</td>\n",
       "    </tr>\n",
       "    <tr>\n",
       "      <th>...</th>\n",
       "      <td>...</td>\n",
       "      <td>...</td>\n",
       "    </tr>\n",
       "    <tr>\n",
       "      <th>495</th>\n",
       "      <td>0.495</td>\n",
       "      <td>1.376429</td>\n",
       "    </tr>\n",
       "    <tr>\n",
       "      <th>496</th>\n",
       "      <td>0.496</td>\n",
       "      <td>1.367718</td>\n",
       "    </tr>\n",
       "    <tr>\n",
       "      <th>497</th>\n",
       "      <td>0.497</td>\n",
       "      <td>1.447238</td>\n",
       "    </tr>\n",
       "    <tr>\n",
       "      <th>498</th>\n",
       "      <td>0.498</td>\n",
       "      <td>1.284002</td>\n",
       "    </tr>\n",
       "    <tr>\n",
       "      <th>499</th>\n",
       "      <td>0.499</td>\n",
       "      <td>1.417392</td>\n",
       "    </tr>\n",
       "  </tbody>\n",
       "</table>\n",
       "<p>500 rows × 2 columns</p>\n",
       "</div>"
      ],
      "text/plain": [
       "         x         y\n",
       "0    0.000  1.049702\n",
       "1    0.001  1.073658\n",
       "2    0.002  1.152843\n",
       "3    0.003  1.167409\n",
       "4    0.004  1.023661\n",
       "..     ...       ...\n",
       "495  0.495  1.376429\n",
       "496  0.496  1.367718\n",
       "497  0.497  1.447238\n",
       "498  0.498  1.284002\n",
       "499  0.499  1.417392\n",
       "\n",
       "[500 rows x 2 columns]"
      ]
     },
     "execution_count": 4,
     "metadata": {},
     "output_type": "execute_result"
    }
   ],
   "source": [
    "df = pd.DataFrame(data=d)\n",
    "df"
   ]
  },
  {
   "cell_type": "markdown",
   "metadata": {},
   "source": [
    "$\\begin{align}\n",
    "& (1\\ балл)\\ 2.\\ Визуализируйте\\ выборку\n",
    "\\end{align}$"
   ]
  },
  {
   "cell_type": "code",
   "execution_count": 5,
   "metadata": {},
   "outputs": [],
   "source": [
    "# your code here"
   ]
  },
  {
   "cell_type": "code",
   "execution_count": 6,
   "metadata": {},
   "outputs": [
    {
     "data": {
      "image/png": "[encoded data removed]",
      "text/plain": [
       "<Figure size 720x504 with 1 Axes>"
      ]
     },
     "metadata": {
      "needs_background": "light"
     },
     "output_type": "display_data"
    }
   ],
   "source": [
    "plt.figure(figsize=[10, 7])\n",
    "plt.plot(df['x'], df['y'], 'bo')\n",
    "plt.xlabel('x')\n",
    "plt.ylabel('y')\n",
    "plt.title('Выборка')\n",
    "plt.show()"
   ]
  },
  {
   "cell_type": "markdown",
   "metadata": {},
   "source": [
    "$\\begin{align}\n",
    "&(2\\ балла)\\ 3.\\ Восстановите\\ по\\ выборке\\ зависимость\\ y(x),\\ считая,\\ что\\ зависимость\\ имеет\\ вид\\ y\\ =\\ ax+b,\n",
    "и\\ минимизируя\\\\ & среднеквадратическое\\ отклонение\\ на\\ обучающей\\  выборке,\\ воспользовавшись\\ scipy.optimize.minimize. \\\\\n",
    "& Визуализируйте\\ восстановленную\\ прямую.\n",
    "\\end{align}$"
   ]
  },
  {
   "cell_type": "code",
   "execution_count": 7,
   "metadata": {},
   "outputs": [],
   "source": [
    "# your code here\n",
    "from scipy.optimize import minimize"
   ]
  },
  {
   "cell_type": "code",
   "execution_count": 8,
   "metadata": {},
   "outputs": [],
   "source": [
    "# расчет функции\n",
    "def func(coef):\n",
    "    a, b = coef\n",
    "    y = a*df['x'] + b\n",
    "    return y"
   ]
  },
  {
   "cell_type": "code",
   "execution_count": 9,
   "metadata": {},
   "outputs": [],
   "source": [
    "# среднеквадратическое отклонение (что нужно минимизировать)\n",
    "def sr_otkl(coef):\n",
    "    y = func(coef)\n",
    "    rez = np.sqrt(np.sum((y - df['y'])**2) / len(df['y']))\n",
    "    return rez"
   ]
  },
  {
   "cell_type": "code",
   "execution_count": 10,
   "metadata": {},
   "outputs": [
    {
     "name": "stdout",
     "output_type": "stream",
     "text": [
      "a = 0.49431849711009873\n",
      "b = 1.1001880145691045\n",
      "y = 0.5x + 1.1\n"
     ]
    }
   ],
   "source": [
    "# начальное предположение о значении коэффициентов\n",
    "coef_0 = np.zeros(2)\n",
    "# поиск коэффициентов\n",
    "sol = minimize(sr_otkl, coef_0)\n",
    "# результат\n",
    "coef = sol.x\n",
    "y_new = func(coef)\n",
    "print('a =', coef[0])\n",
    "print('b =', coef[1])\n",
    "print('y = {}x + {}'.format(round(coef[0], 1), np.round(coef[1], 1)))"
   ]
  },
  {
   "cell_type": "code",
   "execution_count": 11,
   "metadata": {},
   "outputs": [
    {
     "data": {
      "image/png": "[encoded data removed]",
      "text/plain": [
       "<Figure size 720x504 with 1 Axes>"
      ]
     },
     "metadata": {
      "needs_background": "light"
     },
     "output_type": "display_data"
    }
   ],
   "source": [
    "# визуализация\n",
    "plt.figure(figsize=[10, 7])\n",
    "plt.plot(df['x'], df['y'], 'bo')\n",
    "plt.plot(df['x'], y_new, 'r', linewidth=5)\n",
    "plt.xlabel('x')\n",
    "plt.ylabel('y')\n",
    "plt.title('Выборка + восстановленная прямая')\n",
    "plt.show()"
   ]
  },
  {
   "cell_type": "markdown",
   "metadata": {},
   "source": [
    "$\n",
    "\\begin{align}\n",
    "& (2\\ балла)\\ 4.\\ Добавьте\\ теперь\\ в\\ выборку\\ 75\\ точек,\\ для\\ которых\\ y = -1 + \\epsilon ,\\ а\\ x\\ принимает\\ различные\\ \n",
    "значения\\ из\\ того\\ же\\ диапазона,\\\\ &  что\\ и\\ у\\ уже\\ имевшихся\\ точек\\ в\\ обучающей\\ выборке.\\ По\\ новой\\ расширенной\\ выборке\\ снова\\ попробуйте\\ восстановить\\\\ & зависимость\\ y(x) = ax + b\\ \n",
    "двумя\\ способами:\\\\ & \\cdot минимизируя\\ среднеквадратическое\\ отклонение\\ и\\\\ & \\cdot минимизируя\\ среднее\\ абсолютное\\ отклонение.\\\\ & Визуализируйте\\ полученные\\ \n",
    "прямые\\ и\\ сгенерированный\\ датасет\\ на\\ одном\\ изображении.\n",
    "\\end{align}$"
   ]
  },
  {
   "cell_type": "code",
   "execution_count": 12,
   "metadata": {},
   "outputs": [],
   "source": [
    "# your code here"
   ]
  },
  {
   "cell_type": "code",
   "execution_count": 13,
   "metadata": {},
   "outputs": [],
   "source": [
    "x_array_new = [np.random.uniform(0, 0.5) for _ in range(75)]\n",
    "x_array.extend(x_array_new)"
   ]
  },
  {
   "cell_type": "code",
   "execution_count": 14,
   "metadata": {},
   "outputs": [],
   "source": [
    "y_array_new = [-1 + np.random.uniform(0, 0.2) for _ in x_array_new]\n",
    "y_array.extend(y_array_new)"
   ]
  },
  {
   "cell_type": "code",
   "execution_count": 15,
   "metadata": {},
   "outputs": [
    {
     "data": {
      "text/html": [
       "<div>\n",
       "<style scoped>\n",
       "    .dataframe tbody tr th:only-of-type {\n",
       "        vertical-align: middle;\n",
       "    }\n",
       "\n",
       "    .dataframe tbody tr th {\n",
       "        vertical-align: top;\n",
       "    }\n",
       "\n",
       "    .dataframe thead th {\n",
       "        text-align: right;\n",
       "    }\n",
       "</style>\n",
       "<table border=\"1\" class=\"dataframe\">\n",
       "  <thead>\n",
       "    <tr style=\"text-align: right;\">\n",
       "      <th></th>\n",
       "      <th>x</th>\n",
       "      <th>y</th>\n",
       "    </tr>\n",
       "  </thead>\n",
       "  <tbody>\n",
       "    <tr>\n",
       "      <th>570</th>\n",
       "      <td>0.175354</td>\n",
       "      <td>-0.894014</td>\n",
       "    </tr>\n",
       "    <tr>\n",
       "      <th>571</th>\n",
       "      <td>0.472951</td>\n",
       "      <td>-0.822924</td>\n",
       "    </tr>\n",
       "    <tr>\n",
       "      <th>572</th>\n",
       "      <td>0.390969</td>\n",
       "      <td>-0.914281</td>\n",
       "    </tr>\n",
       "    <tr>\n",
       "      <th>573</th>\n",
       "      <td>0.350110</td>\n",
       "      <td>-0.987916</td>\n",
       "    </tr>\n",
       "    <tr>\n",
       "      <th>574</th>\n",
       "      <td>0.122629</td>\n",
       "      <td>-0.839426</td>\n",
       "    </tr>\n",
       "  </tbody>\n",
       "</table>\n",
       "</div>"
      ],
      "text/plain": [
       "            x         y\n",
       "570  0.175354 -0.894014\n",
       "571  0.472951 -0.822924\n",
       "572  0.390969 -0.914281\n",
       "573  0.350110 -0.987916\n",
       "574  0.122629 -0.839426"
      ]
     },
     "execution_count": 15,
     "metadata": {},
     "output_type": "execute_result"
    }
   ],
   "source": [
    "d_new = {'x': x_array, 'y': y_array}\n",
    "df = pd.DataFrame(d_new)\n",
    "df.tail()"
   ]
  },
  {
   "cell_type": "code",
   "execution_count": 16,
   "metadata": {},
   "outputs": [],
   "source": [
    "# абсолютное отклонение (что нужно минимизировать)\n",
    "def otkl(coef):\n",
    "    y = func(coef)\n",
    "    rez = np.sum(abs(y - df['y'])) / len(df['y'])\n",
    "    return rez"
   ]
  },
  {
   "cell_type": "code",
   "execution_count": 17,
   "metadata": {},
   "outputs": [
    {
     "name": "stdout",
     "output_type": "stream",
     "text": [
      "Результат на основе ср.кв. отклонения \n",
      "\n",
      "a = 0.5655112826167642\n",
      "b = 0.8063554354700995\n",
      "y = 0.6x + 0.8\n",
      "\n",
      "Результат на основе абсолютного отклонения \n",
      "\n",
      "a = 0.49778065977411984\n",
      "b = 1.0852831565263688\n",
      "y = 0.5x + 1.1\n"
     ]
    }
   ],
   "source": [
    "# начальное предположение о значении коэффициентов\n",
    "coef_0 = np.zeros(2)\n",
    "# поиск коэффициентов\n",
    "sol_sr_otkl = minimize(sr_otkl, coef_0)\n",
    "sol_otkl = minimize(otkl, coef_0)\n",
    "# результат\n",
    "coef_sr_otkl = sol_sr_otkl.x\n",
    "coef_otkl = sol_otkl.x\n",
    "y_new_1 = func(coef_sr_otkl)\n",
    "y_new_2 = func(coef_otkl)\n",
    "print('Результат на основе ср.кв. отклонения \\n')\n",
    "print('a =', coef_sr_otkl[0])\n",
    "print('b =', coef_sr_otkl[1])\n",
    "print('y = {}x + {}'.format(round(coef_sr_otkl[0], 1), np.round(coef_sr_otkl[1], 1)))\n",
    "print('\\nРезультат на основе абсолютного отклонения \\n')\n",
    "print('a =', coef_otkl[0])\n",
    "print('b =', coef_otkl[1])\n",
    "print('y = {}x + {}'.format(round(coef_otkl[0], 1), np.round(coef_otkl[1], 1)))"
   ]
  },
  {
   "cell_type": "code",
   "execution_count": 18,
   "metadata": {},
   "outputs": [
    {
     "data": {
      "image/png": "[encoded data removed]",
      "text/plain": [
       "<Figure size 720x504 with 1 Axes>"
      ]
     },
     "metadata": {
      "needs_background": "light"
     },
     "output_type": "display_data"
    }
   ],
   "source": [
    "# визуализация\n",
    "plt.figure(figsize=[10, 7])\n",
    "plt.plot(df['x'], df['y'], 'bo')\n",
    "plt.plot(df['x'], y_new_1, 'black', linewidth=5)\n",
    "plt.plot(df['x'], y_new_2, 'r', linewidth=5)\n",
    "plt.xlabel('x')\n",
    "plt.ylabel('y')\n",
    "plt.legend(['Выборка', 'Ср.кв.отклонение', 'Абс.отклонение'])\n",
    "plt.title('Выборка + восстановленная прямая')\n",
    "plt.show()"
   ]
  },
  {
   "cell_type": "markdown",
   "metadata": {},
   "source": [
    "$\\begin{align}\n",
    "& (1\\ балла)\\ 5.\\ На\\ основе\\ полученных\\ графиков\\ сделайте\\ вывод\\ об\\ устойчивости\\ моделей,\\ оптимизирующих\\ среднеквадратическое\\\\ & отклонение\\ и\\ среднее\\ абсолютное\\ отклонение,\\ к\\ выбросам.\n",
    "\\end{align}$"
   ]
  },
  {
   "cell_type": "markdown",
   "metadata": {},
   "source": [
    "Модели, оптимизирующие среднее абсолютное отклонение, менее чувствительны к выбросам. Таким образом, данные модели БОЛЕЕ устойчивы к выбросам, чем модели, оптимизирующие среднеквадратичное отклонение."
   ]
  },
  {
   "cell_type": "markdown",
   "metadata": {},
   "source": [
    "$\n",
    "\\begin{align}\n",
    "(4\\ балла)\\ 6.\\ Реализуйте\\ линейную\\ регрессию\\ (используйте\\ векторизованные\\ операции\\ из\\ библиотеки\\ numpy)\n",
    "\\end{align}$"
   ]
  },
  {
   "cell_type": "markdown",
   "metadata": {},
   "source": [
    "$\n",
    "\\begin{align}\n",
    "Пример\\ векторизованных\\ операций\n",
    "\\end{align}$"
   ]
  },
  {
   "cell_type": "code",
   "execution_count": 19,
   "metadata": {},
   "outputs": [],
   "source": [
    "class MyLinearRegression:\n",
    "    def __init__(self, n_iter=1000):\n",
    "        self.w = None\n",
    "        self.b = None\n",
    "        self.n_iter = n_iter # число итераций\n",
    "        self.lambda_ = 0.01 # шаг градиентного спуска\n",
    "        \n",
    "    def fit(self, X, y):\n",
    "        # инициализация весов модели\n",
    "        self.w = np.zeros((X.shape[1], 1))\n",
    "        self.b = 0\n",
    "        \n",
    "        # напишите цикл, на каждом шаге которого\n",
    "        # обновляются веса модели\n",
    "        \n",
    "        # начало кода\n",
    "        for i in range(self.n_iter):\n",
    "            delta = X.dot(self.w) + self.b - y\n",
    "            self.w = self.w - self.lambda_ * (2./y.shape[0]) * \\\n",
    "                                                X.T.dot(delta)\n",
    "            self.b = self.b - self.lambda_ * (2./y.shape[0]) * \\\n",
    "                                                np.sum(delta)\n",
    "                                                \n",
    "        # конец кода\n",
    "    \n",
    "    # напишите функцию ошибки\n",
    "    # (среднеквадратическое отклонение)\n",
    "    def loss(self, y_true, X):\n",
    "        # начало кода\n",
    "            delta = X.dot(self.w) + self.b - y\n",
    "            rez = np.sqrt((1./y_true.shape[1]) * (linalg(delta)**2))\n",
    "            return rez\n",
    "        # конец кода\n",
    "        \n",
    "    # напишите предсказание модели \n",
    "    def predict(self, X):\n",
    "        # начало кода\n",
    "        return X.dot(self.w) + self.b\n",
    "        # конец кода"
   ]
  },
  {
   "cell_type": "markdown",
   "metadata": {},
   "source": [
    "$\n",
    "\\begin{align}\n",
    "Проверка\\  линейной\\ регрессии\n",
    "\\end{align}$"
   ]
  },
  {
   "cell_type": "code",
   "execution_count": 20,
   "metadata": {},
   "outputs": [],
   "source": [
    "from sklearn.model_selection import train_test_split\n",
    "from sklearn.metrics import mean_squared_error\n",
    "np.random.seed(2020)\n",
    "x = np.linspace(0, 10, 500)\n",
    "y = 0.5 * x + 1 + np.sqrt(0.2) * np.random.randn(500)\n",
    "x = x.reshape(-1, 1)\n",
    "y = y.reshape(-1, 1)\n",
    "X_train, X_test, y_train, y_test = train_test_split(\n",
    "    x, y, test_size=0.3, random_state=2020)\n",
    "linear_model = MyLinearRegression()\n",
    "linear_model.fit(X_train, y_train)\n",
    "mse = mean_squared_error(y_test, linear_model.predict(X_test))\n",
    "assert mse < 0.19"
   ]
  },
  {
   "cell_type": "markdown",
   "metadata": {},
   "source": [
    "$\n",
    "\\begin{align}\n",
    "7. \\ Изобразите\\ на\\ одном\\ графике\\ прямую,\\ получаемую\\ вашей\\ линейной\\ регрессией,\\ и\\  исходные\\  точки\\  x,\\ y\n",
    "\\end{align}$"
   ]
  },
  {
   "cell_type": "code",
   "execution_count": 21,
   "metadata": {},
   "outputs": [
    {
     "data": {
      "image/png": "[encoded data removed]",
      "text/plain": [
       "<Figure size 720x504 with 1 Axes>"
      ]
     },
     "metadata": {
      "needs_background": "light"
     },
     "output_type": "display_data"
    }
   ],
   "source": [
    "# визуализация\n",
    "plt.figure(figsize=[10, 7])\n",
    "plt.plot(x, y, 'bo')\n",
    "plt.plot(x, linear_model.predict(x), 'black', linewidth=5)\n",
    "plt.xlabel('x')\n",
    "plt.ylabel('y')\n",
    "plt.title('Линейная регрессия')\n",
    "plt.show()"
   ]
  }
 ],
 "metadata": {
  "kernelspec": {
   "display_name": "Python 3",
   "language": "python",
   "name": "python3"
  },
  "language_info": {
   "codemirror_mode": {
    "name": "ipython",
    "version": 3
   },
   "file_extension": ".py",
   "mimetype": "text/x-python",
   "name": "python",
   "nbconvert_exporter": "python",
   "pygments_lexer": "ipython3",
   "version": "3.7.3"
  },
  "toc": {
   "base_numbering": 1,
   "nav_menu": {},
   "number_sections": true,
   "sideBar": true,
   "skip_h1_title": false,
   "title_cell": "Table of Contents",
   "title_sidebar": "Contents",
   "toc_cell": false,
   "toc_position": {},
   "toc_section_display": true,
   "toc_window_display": false
  }
 },
 "nbformat": 4,
 "nbformat_minor": 4
}
