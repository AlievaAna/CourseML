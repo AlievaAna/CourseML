{
 "cells": [
  {
   "cell_type": "markdown",
   "metadata": {},
   "source": [
    "**Неделя 1. Домашнее задание**"
   ]
  },
  {
   "cell_type": "code",
   "execution_count": 1,
   "metadata": {},
   "outputs": [],
   "source": [
    "# Считывание CSV файла в формате словаря\n",
    "import csv\n",
    "from collections import defaultdict\n",
    "\n",
    "with open('titanic.csv', newline='') as csvfile: \n",
    "    titanic_reader = csv.DictReader(csvfile)\n",
    "    titanic_lst = []\n",
    "    for row in titanic_reader:\n",
    "        titanic_lst.append(row)\n",
    "\n",
    "titanic_dict = defaultdict(list)\n",
    "for row in titanic_lst:\n",
    "    for item in row.items():\n",
    "        titanic_dict[item[0]].append(item[1])"
   ]
  },
  {
   "cell_type": "markdown",
   "metadata": {},
   "source": [
    "**Задание 1**:  \n",
    "Преобразуйте колонку 'Survived' в тип int без применения библиотеки numpy. Сумму по всему столбцу запишите в поле ответа."
   ]
  },
  {
   "cell_type": "code",
   "execution_count": 2,
   "metadata": {},
   "outputs": [],
   "source": [
    "titanic_dict['Survived'] = [int(i) for i in titanic_dict['Survived']]"
   ]
  },
  {
   "cell_type": "code",
   "execution_count": 3,
   "metadata": {},
   "outputs": [
    {
     "data": {
      "text/plain": [
       "342"
      ]
     },
     "execution_count": 3,
     "metadata": {},
     "output_type": "execute_result"
    }
   ],
   "source": [
    "sum(titanic_dict['Survived'])"
   ]
  },
  {
   "cell_type": "markdown",
   "metadata": {},
   "source": [
    "**Задание 2:**  \n",
    "Посчитайте количество пассажиров с родственниками ('Siblings/Spouses Aboard') в количестве более 3."
   ]
  },
  {
   "cell_type": "code",
   "execution_count": 4,
   "metadata": {},
   "outputs": [],
   "source": [
    "import numpy as np\n",
    "# Преобразуем типы целых и вещественных колонок\n",
    "for t, columns in {'int':['Survived', 'Pclass', 'Siblings/Spouses Aboard', 'Parents/Children Aboard'], \n",
    "                   'float':['Age', 'Fare']}.items():\n",
    "    for col in columns:\n",
    "        titanic_dict[col] = np.array(titanic_dict[col]).astype(t)"
   ]
  },
  {
   "cell_type": "code",
   "execution_count": 5,
   "metadata": {},
   "outputs": [
    {
     "data": {
      "text/plain": [
       "30"
      ]
     },
     "execution_count": 5,
     "metadata": {},
     "output_type": "execute_result"
    }
   ],
   "source": [
    "sum([1 for i in titanic_dict['Siblings/Spouses Aboard'] if i > 3])"
   ]
  },
  {
   "cell_type": "markdown",
   "metadata": {},
   "source": [
    "**Задание 3:**  \n",
    "3.1. Средний возраст мужчин.  \n",
    "3.2. Средний возраст женщин.  \n",
    "3.3. Доля выживших мужчин среди всех мужчин.  \n",
    "3.4. Доля выживших женщин среди всех женщин.  "
   ]
  },
  {
   "cell_type": "code",
   "execution_count": 6,
   "metadata": {},
   "outputs": [],
   "source": [
    "# male=1, female=0\n",
    "len_dict = len(titanic_dict['Sex'])\n",
    "for i in range(len_dict):\n",
    "    if titanic_dict['Sex'][i] == 'male':\n",
    "        titanic_dict['Sex'][i] = 1\n",
    "    else:\n",
    "        titanic_dict['Sex'][i] = 0"
   ]
  },
  {
   "cell_type": "code",
   "execution_count": 7,
   "metadata": {},
   "outputs": [
    {
     "name": "stdout",
     "output_type": "stream",
     "text": [
      "Пол female\n",
      "\n",
      "Средний возраст: 27.719745222929937\n",
      "Доля выживших: 0.7420382165605095\n",
      "\n",
      "Пол male\n",
      "\n",
      "Средний возраст: 30.431361256544506\n",
      "Доля выживших: 0.19022687609075042\n",
      "\n"
     ]
    }
   ],
   "source": [
    "for i in np.unique(titanic_dict['Sex']):\n",
    "    age = titanic_dict['Age'][np.where(titanic_dict['Sex']==i)[0]]\n",
    "    survived = titanic_dict['Survived'][np.where(titanic_dict['Sex']==i)[0]]\n",
    "    uniq, cnt = np.unique(survived, return_counts=True)\n",
    "    \n",
    "    print('Пол {}\\n'.format('female' if i == 0 else 'male'))\n",
    "    print('Средний возраст: {}'.format(sum(age)/age.size))\n",
    "    print('Доля выживших: {}\\n'.format(cnt[1]/survived.size))"
   ]
  },
  {
   "cell_type": "markdown",
   "metadata": {},
   "source": [
    "**Задание 4:**  \n",
    "Построить распределения возрастов мужчин и женщин в отдельных графиках и раскрасить выживших и не выживших в разные цвета. В качества ответа прикрепите 2 картинки с графиками или одну с 2-мя графиками."
   ]
  },
  {
   "cell_type": "code",
   "execution_count": 8,
   "metadata": {},
   "outputs": [],
   "source": [
    "import matplotlib.pyplot as plt"
   ]
  },
  {
   "cell_type": "code",
   "execution_count": 9,
   "metadata": {
    "scrolled": true
   },
   "outputs": [
    {
     "data": {
      "image/png": "[encoded data removed]",
      "text/plain": [
       "<Figure size 1080x360 with 1 Axes>"
      ]
     },
     "metadata": {
      "needs_background": "light"
     },
     "output_type": "display_data"
    },
    {
     "data": {
      "image/png": "[encoded data removed]",
      "text/plain": [
       "<Figure size 1080x360 with 1 Axes>"
      ]
     },
     "metadata": {
      "needs_background": "light"
     },
     "output_type": "display_data"
    }
   ],
   "source": [
    "from collections import Counter\n",
    "for i in np.unique(titanic_dict['Sex']):\n",
    "    age = titanic_dict['Age'][np.where(titanic_dict['Sex']==i)[0]]\n",
    "    survived = titanic_dict['Survived'][np.where(titanic_dict['Sex']==i)[0]]\n",
    "    counter = Counter()\n",
    "    counter_surv = Counter()\n",
    "    \n",
    "    for item in range(len(age)):\n",
    "        counter[age[item]] += 1\n",
    "        if survived[item] == 1:\n",
    "            counter_surv[age[item]] += 1\n",
    "        else:\n",
    "            counter_surv[age[item]] += 0\n",
    "            \n",
    "    counter = dict(counter)\n",
    "    counter_surv = dict(counter_surv)\n",
    "\n",
    "    fig, ax = plt.subplots(figsize=(15, 5))\n",
    "    ax.bar(counter.keys(), counter.values(), color='black')\n",
    "    ax.bar(counter_surv.keys(), counter_surv.values(), color='green')\n",
    "    plt.xlabel('Возраст')\n",
    "    plt.ylabel('Кол-во людей')\n",
    "    plt.legend(['доля не выживших', 'доля выживших'])\n",
    "    plt.title('Распределение возрастов {}\\n'.format('женщин' if i == 0 else 'мужчин'))\n",
    "    plt.show()"
   ]
  }
 ],
 "metadata": {
  "kernelspec": {
   "display_name": "Python 3",
   "language": "python",
   "name": "python3"
  },
  "language_info": {
   "codemirror_mode": {
    "name": "ipython",
    "version": 3
   },
   "file_extension": ".py",
   "mimetype": "text/x-python",
   "name": "python",
   "nbconvert_exporter": "python",
   "pygments_lexer": "ipython3",
   "version": "3.7.3"
  },
  "toc": {
   "base_numbering": 1,
   "nav_menu": {},
   "number_sections": true,
   "sideBar": true,
   "skip_h1_title": false,
   "title_cell": "Table of Contents",
   "title_sidebar": "Contents",
   "toc_cell": false,
   "toc_position": {},
   "toc_section_display": true,
   "toc_window_display": false
  }
 },
 "nbformat": 4,
 "nbformat_minor": 2
}
